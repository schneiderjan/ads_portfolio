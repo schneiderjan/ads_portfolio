{
 "cells": [
  {
   "cell_type": "markdown",
   "metadata": {},
   "source": [
    "# Week 3 assignments Jan-Niklas Schneider"
   ]
  },
  {
   "cell_type": "code",
   "execution_count": 2,
   "metadata": {
    "collapsed": false
   },
   "outputs": [],
   "source": [
    "#read file\n",
    "import numpy as np\n",
    "import pandas as pd\n",
    "\n",
    "df = pd.read_csv(\"GCD-Week-3-GRAIN---Land-grab-deals---Jan-2012.csv\", delimiter=';',encoding='utf-8')"
   ]
  },
  {
   "cell_type": "code",
   "execution_count": 3,
   "metadata": {
    "collapsed": false
   },
   "outputs": [
    {
     "data": {
      "text/html": [
       "<div>\n",
       "<table border=\"1\" class=\"dataframe\">\n",
       "  <thead>\n",
       "    <tr style=\"text-align: right;\">\n",
       "      <th></th>\n",
       "      <th>Landgrabbed</th>\n",
       "      <th>Landgrabber</th>\n",
       "      <th>Base</th>\n",
       "      <th>Sector</th>\n",
       "      <th>Hectares</th>\n",
       "      <th>Production</th>\n",
       "      <th>Projected investment</th>\n",
       "      <th>Status of deal</th>\n",
       "      <th>Summary</th>\n",
       "    </tr>\n",
       "  </thead>\n",
       "  <tbody>\n",
       "    <tr>\n",
       "      <th>0</th>\n",
       "      <td>Algeria</td>\n",
       "      <td>Al Qudra</td>\n",
       "      <td>UAE</td>\n",
       "      <td>Finance, real estate</td>\n",
       "      <td>31000</td>\n",
       "      <td>Milk, olive oil, potatoes</td>\n",
       "      <td>NaN</td>\n",
       "      <td>Done</td>\n",
       "      <td>Al Qudra Holding is a joint-stock company esta...</td>\n",
       "    </tr>\n",
       "    <tr>\n",
       "      <th>1</th>\n",
       "      <td>Angola</td>\n",
       "      <td>CAMC Engineering Co. Ltd</td>\n",
       "      <td>China</td>\n",
       "      <td>Construction</td>\n",
       "      <td>1500</td>\n",
       "      <td>Rice</td>\n",
       "      <td>US$77 million</td>\n",
       "      <td>Done</td>\n",
       "      <td>CAMCE is a subsidiary of the China National Ma...</td>\n",
       "    </tr>\n",
       "    <tr>\n",
       "      <th>2</th>\n",
       "      <td>Angola</td>\n",
       "      <td>ENI</td>\n",
       "      <td>Italy</td>\n",
       "      <td>Energy</td>\n",
       "      <td>12000</td>\n",
       "      <td>Oil palm</td>\n",
       "      <td>NaN</td>\n",
       "      <td>In process</td>\n",
       "      <td>The project is a joint venture between Sonango...</td>\n",
       "    </tr>\n",
       "    <tr>\n",
       "      <th>3</th>\n",
       "      <td>Angola</td>\n",
       "      <td>AfriAgro</td>\n",
       "      <td>Portugal</td>\n",
       "      <td>Finance, real estate</td>\n",
       "      <td>5000</td>\n",
       "      <td>Oil palm</td>\n",
       "      <td>US$30-35 million</td>\n",
       "      <td>Done</td>\n",
       "      <td>AfriAgro is a subsidiary of the Portugal-based...</td>\n",
       "    </tr>\n",
       "    <tr>\n",
       "      <th>4</th>\n",
       "      <td>Angola</td>\n",
       "      <td>Eurico Ferreira</td>\n",
       "      <td>Portugal</td>\n",
       "      <td>Energy, telecommunications\\n</td>\n",
       "      <td>30000</td>\n",
       "      <td>Sugar cane</td>\n",
       "      <td>US$200 million</td>\n",
       "      <td>Done</td>\n",
       "      <td>In 2008, Portuguese conglomerate Eurico Ferrei...</td>\n",
       "    </tr>\n",
       "  </tbody>\n",
       "</table>\n",
       "</div>"
      ],
      "text/plain": [
       "  Landgrabbed               Landgrabber      Base  \\\n",
       "0     Algeria                  Al Qudra       UAE   \n",
       "1      Angola  CAMC Engineering Co. Ltd     China   \n",
       "2      Angola                       ENI     Italy   \n",
       "3      Angola                  AfriAgro  Portugal   \n",
       "4      Angola           Eurico Ferreira  Portugal   \n",
       "\n",
       "                         Sector  Hectares                 Production  \\\n",
       "0          Finance, real estate     31000  Milk, olive oil, potatoes   \n",
       "1                  Construction      1500                       Rice   \n",
       "2                        Energy     12000                   Oil palm   \n",
       "3          Finance, real estate      5000                   Oil palm   \n",
       "4  Energy, telecommunications\\n     30000                 Sugar cane   \n",
       "\n",
       "  Projected investment Status of deal  \\\n",
       "0                  NaN           Done   \n",
       "1        US$77 million          Done    \n",
       "2                  NaN     In process   \n",
       "3     US$30-35 million           Done   \n",
       "4       US$200 million           Done   \n",
       "\n",
       "                                             Summary  \n",
       "0  Al Qudra Holding is a joint-stock company esta...  \n",
       "1  CAMCE is a subsidiary of the China National Ma...  \n",
       "2  The project is a joint venture between Sonango...  \n",
       "3  AfriAgro is a subsidiary of the Portugal-based...  \n",
       "4  In 2008, Portuguese conglomerate Eurico Ferrei...  "
      ]
     },
     "execution_count": 3,
     "metadata": {},
     "output_type": "execute_result"
    }
   ],
   "source": [
    "#Problem 1: Showing the data plainly\n",
    "df.head()"
   ]
  },
  {
   "cell_type": "markdown",
   "metadata": {},
   "source": [
    "# Problem 2: Whitespace and new lines\n"
   ]
  },
  {
   "cell_type": "code",
   "execution_count": 4,
   "metadata": {
    "collapsed": false
   },
   "outputs": [
    {
     "data": {
      "text/plain": [
       "0                    Done\n",
       "1                    Done\n",
       "2              In process\n",
       "3                    Done\n",
       "4                    Done\n",
       "5                    Done\n",
       "6      Done (50-yr lease)\n",
       "7                    Done\n",
       "8               Suspended\n",
       "9                    Done\n",
       "10                   Done\n",
       "11                   Done\n",
       "12                   Done\n",
       "13                   Done\n",
       "14                   Done\n",
       "15             In process\n",
       "16                   Done\n",
       "17                   Done\n",
       "18                   Done\n",
       "19                   Done\n",
       "20                   Done\n",
       "21                   Done\n",
       "22                   Done\n",
       "23                   Done\n",
       "24                   Done\n",
       "25             In process\n",
       "26                   Done\n",
       "27             In process\n",
       "28                   Done\n",
       "29             In process\n",
       "              ...        \n",
       "386                  Done\n",
       "387                  Done\n",
       "388                  Done\n",
       "389                  Done\n",
       "390                  Done\n",
       "391                  Done\n",
       "392                  Done\n",
       "393                  Done\n",
       "394                  Done\n",
       "395                  Done\n",
       "396                  Done\n",
       "397                  Done\n",
       "398                  Done\n",
       "399                  Done\n",
       "400                  Done\n",
       "401                  Done\n",
       "402                  Done\n",
       "403                  Done\n",
       "404                  Done\n",
       "405                  Done\n",
       "406                  Done\n",
       "407                  Done\n",
       "408                  Done\n",
       "409                  Done\n",
       "410                  Done\n",
       "411                  Done\n",
       "412                  Done\n",
       "413                  Done\n",
       "414                  Done\n",
       "415                  Done\n",
       "Name: Status of deal, dtype: object"
      ]
     },
     "execution_count": 4,
     "metadata": {},
     "output_type": "execute_result"
    }
   ],
   "source": [
    "#remove all leading or trailing whitespaces\n",
    "df[\"Status of deal\"].str.strip()"
   ]
  },
  {
   "cell_type": "markdown",
   "metadata": {},
   "source": [
    "# Problem 3: Blank cells"
   ]
  },
  {
   "cell_type": "code",
   "execution_count": 5,
   "metadata": {
    "collapsed": false,
    "scrolled": false
   },
   "outputs": [
    {
     "data": {
      "text/plain": [
       "Landgrabbed               0\n",
       "Landgrabber               0\n",
       "Base                      0\n",
       "Sector                   10\n",
       "Hectares                  2\n",
       "Production               34\n",
       "Projected investment    310\n",
       "Status of deal            0\n",
       "Summary                   0\n",
       "dtype: int64"
      ]
     },
     "execution_count": 5,
     "metadata": {},
     "output_type": "execute_result"
    }
   ],
   "source": [
    "#fill missing cells with missing\n",
    "df.isnull().sum()"
   ]
  },
  {
   "cell_type": "code",
   "execution_count": 6,
   "metadata": {
    "collapsed": false,
    "scrolled": false
   },
   "outputs": [
    {
     "data": {
      "text/html": [
       "<div>\n",
       "<table border=\"1\" class=\"dataframe\">\n",
       "  <thead>\n",
       "    <tr style=\"text-align: right;\">\n",
       "      <th></th>\n",
       "      <th>Landgrabbed</th>\n",
       "      <th>Landgrabber</th>\n",
       "      <th>Base</th>\n",
       "      <th>Sector</th>\n",
       "      <th>Hectares</th>\n",
       "      <th>Production</th>\n",
       "      <th>Projected investment</th>\n",
       "      <th>Status of deal</th>\n",
       "      <th>Summary</th>\n",
       "    </tr>\n",
       "  </thead>\n",
       "  <tbody>\n",
       "    <tr>\n",
       "      <th>0</th>\n",
       "      <td>Algeria</td>\n",
       "      <td>Al Qudra</td>\n",
       "      <td>UAE</td>\n",
       "      <td>Finance, real estate</td>\n",
       "      <td>31000</td>\n",
       "      <td>Milk, olive oil, potatoes</td>\n",
       "      <td>Missing</td>\n",
       "      <td>Done</td>\n",
       "      <td>Al Qudra Holding is a joint-stock company esta...</td>\n",
       "    </tr>\n",
       "    <tr>\n",
       "      <th>1</th>\n",
       "      <td>Angola</td>\n",
       "      <td>CAMC Engineering Co. Ltd</td>\n",
       "      <td>China</td>\n",
       "      <td>Construction</td>\n",
       "      <td>1500</td>\n",
       "      <td>Rice</td>\n",
       "      <td>US$77 million</td>\n",
       "      <td>Done</td>\n",
       "      <td>CAMCE is a subsidiary of the China National Ma...</td>\n",
       "    </tr>\n",
       "    <tr>\n",
       "      <th>2</th>\n",
       "      <td>Angola</td>\n",
       "      <td>ENI</td>\n",
       "      <td>Italy</td>\n",
       "      <td>Energy</td>\n",
       "      <td>12000</td>\n",
       "      <td>Oil palm</td>\n",
       "      <td>Missing</td>\n",
       "      <td>In process</td>\n",
       "      <td>The project is a joint venture between Sonango...</td>\n",
       "    </tr>\n",
       "    <tr>\n",
       "      <th>3</th>\n",
       "      <td>Angola</td>\n",
       "      <td>AfriAgro</td>\n",
       "      <td>Portugal</td>\n",
       "      <td>Finance, real estate</td>\n",
       "      <td>5000</td>\n",
       "      <td>Oil palm</td>\n",
       "      <td>US$30-35 million</td>\n",
       "      <td>Done</td>\n",
       "      <td>AfriAgro is a subsidiary of the Portugal-based...</td>\n",
       "    </tr>\n",
       "    <tr>\n",
       "      <th>4</th>\n",
       "      <td>Angola</td>\n",
       "      <td>Eurico Ferreira</td>\n",
       "      <td>Portugal</td>\n",
       "      <td>Energy, telecommunications\\n</td>\n",
       "      <td>30000</td>\n",
       "      <td>Sugar cane</td>\n",
       "      <td>US$200 million</td>\n",
       "      <td>Done</td>\n",
       "      <td>In 2008, Portuguese conglomerate Eurico Ferrei...</td>\n",
       "    </tr>\n",
       "  </tbody>\n",
       "</table>\n",
       "</div>"
      ],
      "text/plain": [
       "  Landgrabbed               Landgrabber      Base  \\\n",
       "0     Algeria                  Al Qudra       UAE   \n",
       "1      Angola  CAMC Engineering Co. Ltd     China   \n",
       "2      Angola                       ENI     Italy   \n",
       "3      Angola                  AfriAgro  Portugal   \n",
       "4      Angola           Eurico Ferreira  Portugal   \n",
       "\n",
       "                         Sector Hectares                 Production  \\\n",
       "0          Finance, real estate    31000  Milk, olive oil, potatoes   \n",
       "1                  Construction     1500                       Rice   \n",
       "2                        Energy    12000                   Oil palm   \n",
       "3          Finance, real estate     5000                   Oil palm   \n",
       "4  Energy, telecommunications\\n    30000                 Sugar cane   \n",
       "\n",
       "  Projected investment Status of deal  \\\n",
       "0              Missing           Done   \n",
       "1        US$77 million          Done    \n",
       "2              Missing     In process   \n",
       "3     US$30-35 million           Done   \n",
       "4       US$200 million           Done   \n",
       "\n",
       "                                             Summary  \n",
       "0  Al Qudra Holding is a joint-stock company esta...  \n",
       "1  CAMCE is a subsidiary of the China National Ma...  \n",
       "2  The project is a joint venture between Sonango...  \n",
       "3  AfriAgro is a subsidiary of the Portugal-based...  \n",
       "4  In 2008, Portuguese conglomerate Eurico Ferrei...  "
      ]
     },
     "execution_count": 6,
     "metadata": {},
     "output_type": "execute_result"
    }
   ],
   "source": [
    "df=df.fillna(\"Missing\")\n",
    "df.head()"
   ]
  },
  {
   "cell_type": "markdown",
   "metadata": {},
   "source": [
    "# Problem 4: Fixing numbers that aren’t numbers"
   ]
  },
  {
   "cell_type": "code",
   "execution_count": 7,
   "metadata": {
    "collapsed": false
   },
   "outputs": [],
   "source": [
    "#remove million and US$ from the column\n",
    "df[\"Projected investment\"]=df[\"Projected investment\"].str.replace(\"US\\$\", \"\").str.replace(\" million\",\"\").str.strip()"
   ]
  },
  {
   "cell_type": "code",
   "execution_count": 8,
   "metadata": {
    "collapsed": false,
    "scrolled": false
   },
   "outputs": [
    {
     "data": {
      "text/plain": [
       "Missing                                                                                 310\n",
       "100                                                                                       5\n",
       "40                                                                                        4\n",
       "15                                                                                        3\n",
       "250                                                                                       3\n",
       "5                                                                                         3\n",
       "4/ha/yr (lease)                                                                           2\n",
       "77                                                                                        2\n",
       "300                                                                                       2\n",
       "400                                                                                       2\n",
       "30                                                                                        2\n",
       "120                                                                                       2\n",
       "2 billion                                                                                 2\n",
       "200                                                                                       2\n",
       "205 (half of fund)                                                                        2\n",
       "50                                                                                        2\n",
       "600                                                                                       2\n",
       "23                                                                                        1\n",
       "34.1                                                                                      1\n",
       "45.3                                                                                      1\n",
       "8/ha/yr (lease)                                                                           1\n",
       "7                                                                                         1\n",
       "5.49                                                                                      1\n",
       "64                                                                                        1\n",
       "111                                                                                       1\n",
       "57,600 (0.80/ha)                                                                          1\n",
       "6.5                                                                                       1\n",
       "1,240                                                                                     1\n",
       "43                                                                                        1\n",
       "1.6 billion                                                                               1\n",
       "                                                                                       ... \n",
       "1,876                                                                                     1\n",
       "336                                                                                       1\n",
       "6.2                                                                                       1\n",
       "251                                                                                       1\n",
       "1.2/ha/yr (after first 7 years) in Gambela and 8/ha/yr (after first 6 years) in Bako      1\n",
       "65                                                                                        1\n",
       "375                                                                                       1\n",
       "7.7                                                                                       1\n",
       "27                                                                                        1\n",
       "6.4                                                                                       1\n",
       "204                                                                                       1\n",
       "33                                                                                        1\n",
       "53.2                                                                                      1\n",
       "125,000/yr (land lease)                                                                   1\n",
       "500                                                                                       1\n",
       "3.1 billion                                                                               1\n",
       "73                                                                                        1\n",
       "456                                                                                       1\n",
       "136                                                                                       1\n",
       "415                                                                                       1\n",
       "1,500                                                                                     1\n",
       "10                                                                                        1\n",
       "166                                                                                       1\n",
       "35                                                                                        1\n",
       "41                                                                                        1\n",
       "4 (lease cost for 25,000 ha)                                                              1\n",
       "79                                                                                        1\n",
       "320                                                                                       1\n",
       "83                                                                                        1\n",
       "30-35                                                                                     1\n",
       "dtype: int64"
      ]
     },
     "execution_count": 8,
     "metadata": {},
     "output_type": "execute_result"
    }
   ],
   "source": [
    "#find errors in the column\n",
    "pd.value_counts(df[\"Projected investment\"].values.ravel())"
   ]
  },
  {
   "cell_type": "code",
   "execution_count": 9,
   "metadata": {
    "collapsed": true
   },
   "outputs": [],
   "source": [
    "#I was having problem changing values manually. I was not able to \"filter/find\" entries and change them manually"
   ]
  },
  {
   "cell_type": "markdown",
   "metadata": {
    "collapsed": true
   },
   "source": [
    "# Problem 5: Structural problems"
   ]
  },
  {
   "cell_type": "code",
   "execution_count": 10,
   "metadata": {
    "collapsed": false,
    "scrolled": false
   },
   "outputs": [
    {
     "data": {
      "text/plain": [
       "Sugar cane                                                                                     40\n",
       "Oil palm                                                                                       40\n",
       "Rice                                                                                           35\n",
       "Missing                                                                                        34\n",
       "Crops                                                                                          30\n",
       "Cereals                                                                                        12\n",
       "Maize                                                                                           7\n",
       "Cassava                                                                                         5\n",
       "Wheat                                                                                           5\n",
       "Dairy                                                                                           4\n",
       "Soybean                                                                                         4\n",
       "Fruit                                                                                           4\n",
       "Soybeans                                                                                        4\n",
       "Sweet sorghum                                                                                   3\n",
       "Crops, dairy                                                                                    3\n",
       "Cattle                                                                                          3\n",
       "Livestock                                                                                       2\n",
       "Maize, wheat                                                                                    2\n",
       "Rice and other crops                                                                            2\n",
       "Maize, soybeans                                                                                 2\n",
       "Feed, wheat                                                                                     2\n",
       "Alfalfa                                                                                         2\n",
       "Palm oil                                                                                        2\n",
       "Cereals, oilseeds                                                                               2\n",
       "Cassava, sugar cane                                                                             2\n",
       "Sheep                                                                                           2\n",
       "Food crops                                                                                      2\n",
       "Crops (mainly soybean)                                                                          2\n",
       "Fruit, rice, vegetables                                                                         2\n",
       "Maize, soybean                                                                                  2\n",
       "                                                                                               ..\n",
       "Bananas, rice and other crops                                                                   1\n",
       "livestock, cereal                                                                               1\n",
       "Sesame, soybeans, sunflower seed                                                                1\n",
       "Crops (sorghum)                                                                                 1\n",
       "Rapeseed, soybeans, wheat                                                                       1\n",
       "Cotton, maize, soybean                                                                          1\n",
       "Bananas                                                                                         1\n",
       "Cereals, flowers, fruit, oil seeds, vegetables                                                  1\n",
       "Barley, flowers, fruits, ginseng, maize, oats, pork, rice, rye, soybeans, vegetables, wheat     1\n",
       "Barley, potatoes, sugar beet, sunflowers, wheat                                                 1\n",
       "Cotton, maize, sorghum, sugar, sunflower, wheat                                                 1\n",
       "Sheep, cattle, forest                                                                           1\n",
       "Grapes, nuts                                                                                    1\n",
       "Beef cattle                                                                                     1\n",
       "Crops, forstry, livestock                                                                       1\n",
       "Oil palm, rice                                                                                  1\n",
       "Fruit, grains, herbs, nuts, pasture, vegetables                                                 1\n",
       "Banaba, pineapple                                                                               1\n",
       "Cattle, crops, sugar cane                                                                       1\n",
       "oil seeds                                                                                       1\n",
       "Maize, potatoes, spring wheat, sugar beet                                                       1\n",
       "Rice seeds                                                                                      1\n",
       "Grain, dairy, livestock                                                                         1\n",
       "Cattle, grains, soybeans                                                                        1\n",
       "Cotton, rice                                                                                    1\n",
       "Crops, sugar cane                                                                               1\n",
       "Hops, maize, oilseed rape, sugar beet, wheat, wine, winter barley                               1\n",
       "Fruit, palm oil, rice, sugar cane                                                               1\n",
       "Barley, maize, rape, sunflower, wheat                                                           1\n",
       "Fodder, maize, palm oil, rice, soybeans, sugar cane                                             1\n",
       "dtype: int64"
      ]
     },
     "execution_count": 10,
     "metadata": {},
     "output_type": "execute_result"
    }
   ],
   "source": [
    "pd.value_counts(df[\"Production\"].values.ravel())"
   ]
  },
  {
   "cell_type": "code",
   "execution_count": 17,
   "metadata": {
    "collapsed": false
   },
   "outputs": [
    {
     "data": {
      "text/plain": [
       "Sugar cane                                                                                     40\n",
       "Oil palm                                                                                       40\n",
       "Rice                                                                                           35\n",
       "Missing                                                                                        34\n",
       "Crops                                                                                          30\n",
       "Cereals                                                                                        12\n",
       "Maize                                                                                           7\n",
       "Cassava                                                                                         5\n",
       "Wheat                                                                                           5\n",
       "Dairy                                                                                           4\n",
       "Soybean                                                                                         4\n",
       "Fruit                                                                                           4\n",
       "Soybeans                                                                                        4\n",
       "Sweet sorghum                                                                                   3\n",
       "Crops, dairy                                                                                    3\n",
       "Cattle                                                                                          3\n",
       "Livestock                                                                                       2\n",
       "Maize, wheat                                                                                    2\n",
       "Rice and other crops                                                                            2\n",
       "Maize, soybeans                                                                                 2\n",
       "Feed, wheat                                                                                     2\n",
       "Alfalfa                                                                                         2\n",
       "Palm oil                                                                                        2\n",
       "Cereals, oilseeds                                                                               2\n",
       "Cassava, sugar cane                                                                             2\n",
       "Sheep                                                                                           2\n",
       "Food crops                                                                                      2\n",
       "Crops (mainly soybean)                                                                          2\n",
       "Fruit, rice, vegetables                                                                         2\n",
       "Maize, soybean                                                                                  2\n",
       "                                                                                               ..\n",
       "Bananas, rice and other crops                                                                   1\n",
       "livestock, cereal                                                                               1\n",
       "Sesame, soybeans, sunflower seed                                                                1\n",
       "Crops (sorghum)                                                                                 1\n",
       "Rapeseed, soybeans, wheat                                                                       1\n",
       "Cotton, maize, soybean                                                                          1\n",
       "Bananas                                                                                         1\n",
       "Cereals, flowers, fruit, oil seeds, vegetables                                                  1\n",
       "Barley, flowers, fruits, ginseng, maize, oats, pork, rice, rye, soybeans, vegetables, wheat     1\n",
       "Barley, potatoes, sugar beet, sunflowers, wheat                                                 1\n",
       "Cotton, maize, sorghum, sugar, sunflower, wheat                                                 1\n",
       "Sheep, cattle, forest                                                                           1\n",
       "Grapes, nuts                                                                                    1\n",
       "Beef cattle                                                                                     1\n",
       "Crops, forstry, livestock                                                                       1\n",
       "Oil palm, rice                                                                                  1\n",
       "Fruit, grains, herbs, nuts, pasture, vegetables                                                 1\n",
       "Banaba, pineapple                                                                               1\n",
       "Cattle, crops, sugar cane                                                                       1\n",
       "oil seeds                                                                                       1\n",
       "Maize, potatoes, spring wheat, sugar beet                                                       1\n",
       "Rice seeds                                                                                      1\n",
       "Grain, dairy, livestock                                                                         1\n",
       "Cattle, grains, soybeans                                                                        1\n",
       "Cotton, rice                                                                                    1\n",
       "Crops, sugar cane                                                                               1\n",
       "Hops, maize, oilseed rape, sugar beet, wheat, wine, winter barley                               1\n",
       "Fruit, palm oil, rice, sugar cane                                                               1\n",
       "Barley, maize, rape, sunflower, wheat                                                           1\n",
       "Fodder, maize, palm oil, rice, soybeans, sugar cane                                             1\n",
       "dtype: int64"
      ]
     },
     "execution_count": 17,
     "metadata": {},
     "output_type": "execute_result"
    }
   ],
   "source": [
    "df[\"Projected investment\"]=df[\"Projected investment\"]=df[\"Projected investment\"].str.replace(\"rice\", \"Rice\").str.replace(\"\\?oybean\\*\", \"Soybeans\")\n",
    "df.head()\n",
    "pd.value_counts(df[\"Production\"].values.ravel())"
   ]
  },
  {
   "cell_type": "code",
   "execution_count": null,
   "metadata": {
    "collapsed": true
   },
   "outputs": [],
   "source": []
  },
  {
   "cell_type": "code",
   "execution_count": null,
   "metadata": {
    "collapsed": true
   },
   "outputs": [],
   "source": []
  }
 ],
 "metadata": {
  "kernelspec": {
   "display_name": "Python 3",
   "language": "python",
   "name": "python3"
  },
  "language_info": {
   "codemirror_mode": {
    "name": "ipython",
    "version": 3
   },
   "file_extension": ".py",
   "mimetype": "text/x-python",
   "name": "python",
   "nbconvert_exporter": "python",
   "pygments_lexer": "ipython3",
   "version": "3.4.3"
  }
 },
 "nbformat": 4,
 "nbformat_minor": 0
}
