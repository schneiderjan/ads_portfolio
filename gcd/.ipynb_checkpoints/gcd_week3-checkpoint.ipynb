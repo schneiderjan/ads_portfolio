{
 "cells": [
  {
   "cell_type": "markdown",
   "metadata": {},
   "source": [
    "# Week 3 assignments Jan-Niklas Schneider"
   ]
  },
  {
   "cell_type": "code",
   "execution_count": 4,
   "metadata": {
    "collapsed": false
   },
   "outputs": [],
   "source": [
    "import numpy as np\n",
    "import pandas as pd\n",
    "\n",
    "df = pd.read_csv(\"GCD-Week-3-GRAIN---Land-grab-deals---Jan-2012.csv\", delimiter=';',encoding='utf-8')\n"
   ]
  },
  {
   "cell_type": "code",
   "execution_count": 6,
   "metadata": {
    "collapsed": false
   },
   "outputs": [
    {
     "data": {
      "text/html": [
       "<div>\n",
       "<table border=\"1\" class=\"dataframe\">\n",
       "  <thead>\n",
       "    <tr style=\"text-align: right;\">\n",
       "      <th></th>\n",
       "      <th>Landgrabbed</th>\n",
       "      <th>Landgrabber</th>\n",
       "      <th>Base</th>\n",
       "      <th>Sector</th>\n",
       "      <th>Hectares</th>\n",
       "      <th>Production</th>\n",
       "      <th>Projected investment</th>\n",
       "      <th>Status of deal</th>\n",
       "      <th>Summary</th>\n",
       "    </tr>\n",
       "  </thead>\n",
       "  <tbody>\n",
       "    <tr>\n",
       "      <th>0</th>\n",
       "      <td>Algeria</td>\n",
       "      <td>Al Qudra</td>\n",
       "      <td>UAE</td>\n",
       "      <td>Finance, real estate</td>\n",
       "      <td>31000</td>\n",
       "      <td>Milk, olive oil, potatoes</td>\n",
       "      <td>NaN</td>\n",
       "      <td>Done</td>\n",
       "      <td>Al Qudra Holding is a joint-stock company esta...</td>\n",
       "    </tr>\n",
       "    <tr>\n",
       "      <th>1</th>\n",
       "      <td>Angola</td>\n",
       "      <td>CAMC Engineering Co. Ltd</td>\n",
       "      <td>China</td>\n",
       "      <td>Construction</td>\n",
       "      <td>1500</td>\n",
       "      <td>Rice</td>\n",
       "      <td>US$77 million</td>\n",
       "      <td>Done</td>\n",
       "      <td>CAMCE is a subsidiary of the China National Ma...</td>\n",
       "    </tr>\n",
       "    <tr>\n",
       "      <th>2</th>\n",
       "      <td>Angola</td>\n",
       "      <td>ENI</td>\n",
       "      <td>Italy</td>\n",
       "      <td>Energy</td>\n",
       "      <td>12000</td>\n",
       "      <td>Oil palm</td>\n",
       "      <td>NaN</td>\n",
       "      <td>In process</td>\n",
       "      <td>The project is a joint venture between Sonango...</td>\n",
       "    </tr>\n",
       "    <tr>\n",
       "      <th>3</th>\n",
       "      <td>Angola</td>\n",
       "      <td>AfriAgro</td>\n",
       "      <td>Portugal</td>\n",
       "      <td>Finance, real estate</td>\n",
       "      <td>5000</td>\n",
       "      <td>Oil palm</td>\n",
       "      <td>US$30-35 million</td>\n",
       "      <td>Done</td>\n",
       "      <td>AfriAgro is a subsidiary of the Portugal-based...</td>\n",
       "    </tr>\n",
       "    <tr>\n",
       "      <th>4</th>\n",
       "      <td>Angola</td>\n",
       "      <td>Eurico Ferreira</td>\n",
       "      <td>Portugal</td>\n",
       "      <td>Energy, telecommunications\\n</td>\n",
       "      <td>30000</td>\n",
       "      <td>Sugar cane</td>\n",
       "      <td>US$200 million</td>\n",
       "      <td>Done</td>\n",
       "      <td>In 2008, Portuguese conglomerate Eurico Ferrei...</td>\n",
       "    </tr>\n",
       "  </tbody>\n",
       "</table>\n",
       "</div>"
      ],
      "text/plain": [
       "  Landgrabbed               Landgrabber      Base  \\\n",
       "0     Algeria                  Al Qudra       UAE   \n",
       "1      Angola  CAMC Engineering Co. Ltd     China   \n",
       "2      Angola                       ENI     Italy   \n",
       "3      Angola                  AfriAgro  Portugal   \n",
       "4      Angola           Eurico Ferreira  Portugal   \n",
       "\n",
       "                         Sector  Hectares                 Production  \\\n",
       "0          Finance, real estate     31000  Milk, olive oil, potatoes   \n",
       "1                  Construction      1500                       Rice   \n",
       "2                        Energy     12000                   Oil palm   \n",
       "3          Finance, real estate      5000                   Oil palm   \n",
       "4  Energy, telecommunications\\n     30000                 Sugar cane   \n",
       "\n",
       "  Projected investment Status of deal  \\\n",
       "0                  NaN           Done   \n",
       "1        US$77 million          Done    \n",
       "2                  NaN     In process   \n",
       "3     US$30-35 million           Done   \n",
       "4       US$200 million           Done   \n",
       "\n",
       "                                             Summary  \n",
       "0  Al Qudra Holding is a joint-stock company esta...  \n",
       "1  CAMCE is a subsidiary of the China National Ma...  \n",
       "2  The project is a joint venture between Sonango...  \n",
       "3  AfriAgro is a subsidiary of the Portugal-based...  \n",
       "4  In 2008, Portuguese conglomerate Eurico Ferrei...  "
      ]
     },
     "execution_count": 6,
     "metadata": {},
     "output_type": "execute_result"
    }
   ],
   "source": [
    "#Problem 1: Showing the data plainly\n",
    "df.head()"
   ]
  },
  {
   "cell_type": "markdown",
   "metadata": {},
   "source": [
    "# Problem 2: Whitespace and new lines\n"
   ]
  },
  {
   "cell_type": "code",
   "execution_count": 36,
   "metadata": {
    "collapsed": false
   },
   "outputs": [
    {
     "data": {
      "text/plain": [
       "0                    Done\n",
       "1                    Done\n",
       "2              In process\n",
       "3                    Done\n",
       "4                    Done\n",
       "5                    Done\n",
       "6      Done (50-yr lease)\n",
       "7                    Done\n",
       "8               Suspended\n",
       "9                    Done\n",
       "10                   Done\n",
       "11                   Done\n",
       "12                   Done\n",
       "13                   Done\n",
       "14                   Done\n",
       "15             In process\n",
       "16                   Done\n",
       "17                   Done\n",
       "18                   Done\n",
       "19                   Done\n",
       "20                   Done\n",
       "21                   Done\n",
       "22                   Done\n",
       "23                   Done\n",
       "24                   Done\n",
       "25             In process\n",
       "26                   Done\n",
       "27             In process\n",
       "28                   Done\n",
       "29             In process\n",
       "              ...        \n",
       "386                  Done\n",
       "387                  Done\n",
       "388                  Done\n",
       "389                  Done\n",
       "390                  Done\n",
       "391                  Done\n",
       "392                  Done\n",
       "393                  Done\n",
       "394                  Done\n",
       "395                  Done\n",
       "396                  Done\n",
       "397                  Done\n",
       "398                  Done\n",
       "399                  Done\n",
       "400                  Done\n",
       "401                  Done\n",
       "402                  Done\n",
       "403                  Done\n",
       "404                  Done\n",
       "405                  Done\n",
       "406                  Done\n",
       "407                  Done\n",
       "408                  Done\n",
       "409                  Done\n",
       "410                  Done\n",
       "411                  Done\n",
       "412                  Done\n",
       "413                  Done\n",
       "414                  Done\n",
       "415                  Done\n",
       "Name: Status of deal, dtype: object"
      ]
     },
     "execution_count": 36,
     "metadata": {},
     "output_type": "execute_result"
    }
   ],
   "source": [
    "#remove all leading or trailing whitespaces\n",
    "df[\"Status of deal\"].str.strip()"
   ]
  },
  {
   "cell_type": "markdown",
   "metadata": {},
   "source": [
    "# Problem 3: Blank cells"
   ]
  },
  {
   "cell_type": "code",
   "execution_count": 32,
   "metadata": {
    "collapsed": false
   },
   "outputs": [
    {
     "data": {
      "text/plain": [
       "Landgrabbed               0\n",
       "Landgrabber               0\n",
       "Base                      0\n",
       "Sector                   10\n",
       "Hectares                  2\n",
       "Production               34\n",
       "Projected investment    310\n",
       "Status of deal            0\n",
       "Summary                   0\n",
       "dtype: int64"
      ]
     },
     "execution_count": 32,
     "metadata": {},
     "output_type": "execute_result"
    }
   ],
   "source": [
    "#fill missing cells with missing\n",
    "df.isnull().sum()"
   ]
  },
  {
   "cell_type": "code",
   "execution_count": 70,
   "metadata": {
    "collapsed": false,
    "scrolled": false
   },
   "outputs": [
    {
     "data": {
      "text/html": [
       "<div>\n",
       "<table border=\"1\" class=\"dataframe\">\n",
       "  <thead>\n",
       "    <tr style=\"text-align: right;\">\n",
       "      <th></th>\n",
       "      <th>Landgrabbed</th>\n",
       "      <th>Landgrabber</th>\n",
       "      <th>Base</th>\n",
       "      <th>Sector</th>\n",
       "      <th>Hectares</th>\n",
       "      <th>Production</th>\n",
       "      <th>Projected investment</th>\n",
       "      <th>Status of deal</th>\n",
       "      <th>Summary</th>\n",
       "    </tr>\n",
       "  </thead>\n",
       "  <tbody>\n",
       "    <tr>\n",
       "      <th>0</th>\n",
       "      <td>Algeria</td>\n",
       "      <td>Al Qudra</td>\n",
       "      <td>UAE</td>\n",
       "      <td>Finance, real estate</td>\n",
       "      <td>31000</td>\n",
       "      <td>Milk, olive oil, potatoes</td>\n",
       "      <td>Missing</td>\n",
       "      <td>Done</td>\n",
       "      <td>Al Qudra Holding is a joint-stock company esta...</td>\n",
       "    </tr>\n",
       "    <tr>\n",
       "      <th>1</th>\n",
       "      <td>Angola</td>\n",
       "      <td>CAMC Engineering Co. Ltd</td>\n",
       "      <td>China</td>\n",
       "      <td>Construction</td>\n",
       "      <td>1500</td>\n",
       "      <td>Rice</td>\n",
       "      <td>77</td>\n",
       "      <td>Done</td>\n",
       "      <td>CAMCE is a subsidiary of the China National Ma...</td>\n",
       "    </tr>\n",
       "    <tr>\n",
       "      <th>2</th>\n",
       "      <td>Angola</td>\n",
       "      <td>ENI</td>\n",
       "      <td>Italy</td>\n",
       "      <td>Energy</td>\n",
       "      <td>12000</td>\n",
       "      <td>Oil palm</td>\n",
       "      <td>Missing</td>\n",
       "      <td>In process</td>\n",
       "      <td>The project is a joint venture between Sonango...</td>\n",
       "    </tr>\n",
       "    <tr>\n",
       "      <th>3</th>\n",
       "      <td>Angola</td>\n",
       "      <td>AfriAgro</td>\n",
       "      <td>Portugal</td>\n",
       "      <td>Finance, real estate</td>\n",
       "      <td>5000</td>\n",
       "      <td>Oil palm</td>\n",
       "      <td>30-35</td>\n",
       "      <td>Done</td>\n",
       "      <td>AfriAgro is a subsidiary of the Portugal-based...</td>\n",
       "    </tr>\n",
       "    <tr>\n",
       "      <th>4</th>\n",
       "      <td>Angola</td>\n",
       "      <td>Eurico Ferreira</td>\n",
       "      <td>Portugal</td>\n",
       "      <td>Energy, telecommunications\\n</td>\n",
       "      <td>30000</td>\n",
       "      <td>Sugar cane</td>\n",
       "      <td>200</td>\n",
       "      <td>Done</td>\n",
       "      <td>In 2008, Portuguese conglomerate Eurico Ferrei...</td>\n",
       "    </tr>\n",
       "  </tbody>\n",
       "</table>\n",
       "</div>"
      ],
      "text/plain": [
       "  Landgrabbed               Landgrabber      Base  \\\n",
       "0     Algeria                  Al Qudra       UAE   \n",
       "1      Angola  CAMC Engineering Co. Ltd     China   \n",
       "2      Angola                       ENI     Italy   \n",
       "3      Angola                  AfriAgro  Portugal   \n",
       "4      Angola           Eurico Ferreira  Portugal   \n",
       "\n",
       "                         Sector Hectares                 Production  \\\n",
       "0          Finance, real estate    31000  Milk, olive oil, potatoes   \n",
       "1                  Construction     1500                       Rice   \n",
       "2                        Energy    12000                   Oil palm   \n",
       "3          Finance, real estate     5000                   Oil palm   \n",
       "4  Energy, telecommunications\\n    30000                 Sugar cane   \n",
       "\n",
       "  Projected investment Status of deal  \\\n",
       "0              Missing           Done   \n",
       "1                   77          Done    \n",
       "2              Missing     In process   \n",
       "3                30-35           Done   \n",
       "4                  200           Done   \n",
       "\n",
       "                                             Summary  \n",
       "0  Al Qudra Holding is a joint-stock company esta...  \n",
       "1  CAMCE is a subsidiary of the China National Ma...  \n",
       "2  The project is a joint venture between Sonango...  \n",
       "3  AfriAgro is a subsidiary of the Portugal-based...  \n",
       "4  In 2008, Portuguese conglomerate Eurico Ferrei...  "
      ]
     },
     "execution_count": 70,
     "metadata": {},
     "output_type": "execute_result"
    }
   ],
   "source": [
    "df=df.fillna(\"Missing\")\n",
    "df.head()"
   ]
  },
  {
   "cell_type": "markdown",
   "metadata": {},
   "source": [
    "# Problem 4: Fixing numbers that aren’t numbers"
   ]
  },
  {
   "cell_type": "code",
   "execution_count": 66,
   "metadata": {
    "collapsed": false
   },
   "outputs": [],
   "source": [
    "#remove million and US$ from the column\n",
    "df[\"Projected investment\"]=df[\"Projected investment\"].str.replace(\"US\\$\", \"\").str.replace(\" million\",\"\").str.strip()"
   ]
  },
  {
   "cell_type": "code",
   "execution_count": 67,
   "metadata": {
    "collapsed": false
   },
   "outputs": [
    {
     "data": {
      "text/plain": [
       "100                        5\n",
       "40                         4\n",
       "250                        3\n",
       "15                         3\n",
       "5                          3\n",
       "4/ha/yr (lease)            2\n",
       "300                        2\n",
       "205 (half of fund)         2\n",
       "120                        2\n",
       "30                         2\n",
       "400                        2\n",
       "77                         2\n",
       "600                        2\n",
       "2 billion                  2\n",
       "200                        2\n",
       "50                         2\n",
       "73                         1\n",
       "1,876                      1\n",
       "136                        1\n",
       "8/ha/yr (lease)            1\n",
       "41                         1\n",
       "336                        1\n",
       "4.8                        1\n",
       "7                          1\n",
       "33                         1\n",
       "204                        1\n",
       "569                        1\n",
       "251                        1\n",
       "53.2                       1\n",
       "5.49                       1\n",
       "                          ..\n",
       "21                         1\n",
       "375                        1\n",
       "16.7                       1\n",
       "45.3                       1\n",
       "34.1                       1\n",
       "43                         1\n",
       "10                         1\n",
       "23                         1\n",
       "80                         1\n",
       "125,000/yr (land lease)    1\n",
       "20                         1\n",
       "160                        1\n",
       "350                        1\n",
       "57,600 (0.80/ha)           1\n",
       "12.5                       1\n",
       "2,500                      1\n",
       "166                        1\n",
       "879                        1\n",
       "42                         1\n",
       "328                        1\n",
       "111                        1\n",
       "500                        1\n",
       "65                         1\n",
       "64                         1\n",
       "30-35                      1\n",
       "1.3 billion                1\n",
       "1.6 billion                1\n",
       "55                         1\n",
       "456                        1\n",
       "7.7                        1\n",
       "dtype: int64"
      ]
     },
     "execution_count": 67,
     "metadata": {},
     "output_type": "execute_result"
    }
   ],
   "source": [
    "#find errors in the column\n",
    "pd.value_counts(df[\"Projected investment\"].values.ravel())\n",
    "df[\"Projected investment\"].replace(\"billion\", \"\")."
   ]
  },
  {
   "cell_type": "code",
   "execution_count": null,
   "metadata": {
    "collapsed": true
   },
   "outputs": [],
   "source": []
  },
  {
   "cell_type": "code",
   "execution_count": null,
   "metadata": {
    "collapsed": true
   },
   "outputs": [],
   "source": []
  }
 ],
 "metadata": {
  "kernelspec": {
   "display_name": "Python 3",
   "language": "python",
   "name": "python3"
  },
  "language_info": {
   "codemirror_mode": {
    "name": "ipython",
    "version": 3
   },
   "file_extension": ".py",
   "mimetype": "text/x-python",
   "name": "python",
   "nbconvert_exporter": "python",
   "pygments_lexer": "ipython3",
   "version": "3.4.3"
  }
 },
 "nbformat": 4,
 "nbformat_minor": 0
}
