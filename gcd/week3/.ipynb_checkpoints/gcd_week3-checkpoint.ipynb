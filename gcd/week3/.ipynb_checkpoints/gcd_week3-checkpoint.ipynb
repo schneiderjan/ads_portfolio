{
 "cells": [
  {
   "cell_type": "markdown",
   "metadata": {},
   "source": [
    "# Week 3 assignments Jan-Niklas Schneider"
   ]
  },
  {
   "cell_type": "code",
   "execution_count": 1,
   "metadata": {
    "collapsed": false
   },
   "outputs": [],
   "source": [
    "#read file\n",
    "import numpy as np\n",
    "import pandas as pd\n",
    "\n",
    "df = pd.read_csv(\"GCD-Week-3-GRAIN---Land-grab-deals---Jan-2012.csv\", delimiter=';',encoding='utf-8')"
   ]
  },
  {
   "cell_type": "code",
   "execution_count": 2,
   "metadata": {
    "collapsed": false
   },
   "outputs": [
    {
     "data": {
      "text/html": [
       "<div>\n",
       "<table border=\"1\" class=\"dataframe\">\n",
       "  <thead>\n",
       "    <tr style=\"text-align: right;\">\n",
       "      <th></th>\n",
       "      <th>Landgrabbed</th>\n",
       "      <th>Landgrabber</th>\n",
       "      <th>Base</th>\n",
       "      <th>Sector</th>\n",
       "      <th>Hectares</th>\n",
       "      <th>Production</th>\n",
       "      <th>Projected investment</th>\n",
       "      <th>Status of deal</th>\n",
       "      <th>Summary</th>\n",
       "    </tr>\n",
       "  </thead>\n",
       "  <tbody>\n",
       "    <tr>\n",
       "      <th>0</th>\n",
       "      <td>Algeria</td>\n",
       "      <td>Al Qudra</td>\n",
       "      <td>UAE</td>\n",
       "      <td>Finance, real estate</td>\n",
       "      <td>31000</td>\n",
       "      <td>Milk, olive oil, potatoes</td>\n",
       "      <td>NaN</td>\n",
       "      <td>Done</td>\n",
       "      <td>Al Qudra Holding is a joint-stock company esta...</td>\n",
       "    </tr>\n",
       "    <tr>\n",
       "      <th>1</th>\n",
       "      <td>Angola</td>\n",
       "      <td>CAMC Engineering Co. Ltd</td>\n",
       "      <td>China</td>\n",
       "      <td>Construction</td>\n",
       "      <td>1500</td>\n",
       "      <td>Rice</td>\n",
       "      <td>US$77 million</td>\n",
       "      <td>Done</td>\n",
       "      <td>CAMCE is a subsidiary of the China National Ma...</td>\n",
       "    </tr>\n",
       "    <tr>\n",
       "      <th>2</th>\n",
       "      <td>Angola</td>\n",
       "      <td>ENI</td>\n",
       "      <td>Italy</td>\n",
       "      <td>Energy</td>\n",
       "      <td>12000</td>\n",
       "      <td>Oil palm</td>\n",
       "      <td>NaN</td>\n",
       "      <td>In process</td>\n",
       "      <td>The project is a joint venture between Sonango...</td>\n",
       "    </tr>\n",
       "    <tr>\n",
       "      <th>3</th>\n",
       "      <td>Angola</td>\n",
       "      <td>AfriAgro</td>\n",
       "      <td>Portugal</td>\n",
       "      <td>Finance, real estate</td>\n",
       "      <td>5000</td>\n",
       "      <td>Oil palm</td>\n",
       "      <td>US$30-35 million</td>\n",
       "      <td>Done</td>\n",
       "      <td>AfriAgro is a subsidiary of the Portugal-based...</td>\n",
       "    </tr>\n",
       "    <tr>\n",
       "      <th>4</th>\n",
       "      <td>Angola</td>\n",
       "      <td>Eurico Ferreira</td>\n",
       "      <td>Portugal</td>\n",
       "      <td>Energy, telecommunications\\r\\n</td>\n",
       "      <td>30000</td>\n",
       "      <td>Sugar cane</td>\n",
       "      <td>US$200 million</td>\n",
       "      <td>Done</td>\n",
       "      <td>In 2008, Portuguese conglomerate Eurico Ferrei...</td>\n",
       "    </tr>\n",
       "  </tbody>\n",
       "</table>\n",
       "</div>"
      ],
      "text/plain": [
       "  Landgrabbed               Landgrabber      Base  \\\n",
       "0     Algeria                  Al Qudra       UAE   \n",
       "1      Angola  CAMC Engineering Co. Ltd     China   \n",
       "2      Angola                       ENI     Italy   \n",
       "3      Angola                  AfriAgro  Portugal   \n",
       "4      Angola           Eurico Ferreira  Portugal   \n",
       "\n",
       "                           Sector  Hectares                 Production  \\\n",
       "0            Finance, real estate     31000  Milk, olive oil, potatoes   \n",
       "1                    Construction      1500                       Rice   \n",
       "2                          Energy     12000                   Oil palm   \n",
       "3            Finance, real estate      5000                   Oil palm   \n",
       "4  Energy, telecommunications\\r\\n     30000                 Sugar cane   \n",
       "\n",
       "  Projected investment Status of deal  \\\n",
       "0                  NaN           Done   \n",
       "1        US$77 million          Done    \n",
       "2                  NaN     In process   \n",
       "3     US$30-35 million           Done   \n",
       "4       US$200 million           Done   \n",
       "\n",
       "                                             Summary  \n",
       "0  Al Qudra Holding is a joint-stock company esta...  \n",
       "1  CAMCE is a subsidiary of the China National Ma...  \n",
       "2  The project is a joint venture between Sonango...  \n",
       "3  AfriAgro is a subsidiary of the Portugal-based...  \n",
       "4  In 2008, Portuguese conglomerate Eurico Ferrei...  "
      ]
     },
     "execution_count": 2,
     "metadata": {},
     "output_type": "execute_result"
    }
   ],
   "source": [
    "#Problem 1: Showing the data plainly\n",
    "df.head()"
   ]
  },
  {
   "cell_type": "markdown",
   "metadata": {},
   "source": [
    "# Problem 2: Whitespace and new lines\n"
   ]
  },
  {
   "cell_type": "code",
   "execution_count": 3,
   "metadata": {
    "collapsed": false
   },
   "outputs": [
    {
     "data": {
      "text/plain": [
       "0                    Done\n",
       "1                    Done\n",
       "2              In process\n",
       "3                    Done\n",
       "4                    Done\n",
       "5                    Done\n",
       "6      Done (50-yr lease)\n",
       "7                    Done\n",
       "8               Suspended\n",
       "9                    Done\n",
       "10                   Done\n",
       "11                   Done\n",
       "12                   Done\n",
       "13                   Done\n",
       "14                   Done\n",
       "15             In process\n",
       "16                   Done\n",
       "17                   Done\n",
       "18                   Done\n",
       "19                   Done\n",
       "20                   Done\n",
       "21                   Done\n",
       "22                   Done\n",
       "23                   Done\n",
       "24                   Done\n",
       "25             In process\n",
       "26                   Done\n",
       "27             In process\n",
       "28                   Done\n",
       "29             In process\n",
       "              ...        \n",
       "386                  Done\n",
       "387                  Done\n",
       "388                  Done\n",
       "389                  Done\n",
       "390                  Done\n",
       "391                  Done\n",
       "392                  Done\n",
       "393                  Done\n",
       "394                  Done\n",
       "395                  Done\n",
       "396                  Done\n",
       "397                  Done\n",
       "398                  Done\n",
       "399                  Done\n",
       "400                  Done\n",
       "401                  Done\n",
       "402                  Done\n",
       "403                  Done\n",
       "404                  Done\n",
       "405                  Done\n",
       "406                  Done\n",
       "407                  Done\n",
       "408                  Done\n",
       "409                  Done\n",
       "410                  Done\n",
       "411                  Done\n",
       "412                  Done\n",
       "413                  Done\n",
       "414                  Done\n",
       "415                  Done\n",
       "Name: Status of deal, dtype: object"
      ]
     },
     "execution_count": 3,
     "metadata": {},
     "output_type": "execute_result"
    }
   ],
   "source": [
    "#remove all leading or trailing whitespaces\n",
    "df[\"Status of deal\"].str.strip()"
   ]
  },
  {
   "cell_type": "markdown",
   "metadata": {},
   "source": [
    "# Problem 3: Blank cells"
   ]
  },
  {
   "cell_type": "code",
   "execution_count": 4,
   "metadata": {
    "collapsed": false,
    "scrolled": false
   },
   "outputs": [
    {
     "data": {
      "text/plain": [
       "Landgrabbed               0\n",
       "Landgrabber               0\n",
       "Base                      0\n",
       "Sector                   10\n",
       "Hectares                  2\n",
       "Production               34\n",
       "Projected investment    310\n",
       "Status of deal            0\n",
       "Summary                   0\n",
       "dtype: int64"
      ]
     },
     "execution_count": 4,
     "metadata": {},
     "output_type": "execute_result"
    }
   ],
   "source": [
    "#fill missing cells with missing\n",
    "df.isnull().sum()"
   ]
  },
  {
   "cell_type": "code",
   "execution_count": 5,
   "metadata": {
    "collapsed": false,
    "scrolled": false
   },
   "outputs": [
    {
     "data": {
      "text/html": [
       "<div>\n",
       "<table border=\"1\" class=\"dataframe\">\n",
       "  <thead>\n",
       "    <tr style=\"text-align: right;\">\n",
       "      <th></th>\n",
       "      <th>Landgrabbed</th>\n",
       "      <th>Landgrabber</th>\n",
       "      <th>Base</th>\n",
       "      <th>Sector</th>\n",
       "      <th>Hectares</th>\n",
       "      <th>Production</th>\n",
       "      <th>Projected investment</th>\n",
       "      <th>Status of deal</th>\n",
       "      <th>Summary</th>\n",
       "    </tr>\n",
       "  </thead>\n",
       "  <tbody>\n",
       "    <tr>\n",
       "      <th>0</th>\n",
       "      <td>Algeria</td>\n",
       "      <td>Al Qudra</td>\n",
       "      <td>UAE</td>\n",
       "      <td>Finance, real estate</td>\n",
       "      <td>31000</td>\n",
       "      <td>Milk, olive oil, potatoes</td>\n",
       "      <td>Missing</td>\n",
       "      <td>Done</td>\n",
       "      <td>Al Qudra Holding is a joint-stock company esta...</td>\n",
       "    </tr>\n",
       "    <tr>\n",
       "      <th>1</th>\n",
       "      <td>Angola</td>\n",
       "      <td>CAMC Engineering Co. Ltd</td>\n",
       "      <td>China</td>\n",
       "      <td>Construction</td>\n",
       "      <td>1500</td>\n",
       "      <td>Rice</td>\n",
       "      <td>US$77 million</td>\n",
       "      <td>Done</td>\n",
       "      <td>CAMCE is a subsidiary of the China National Ma...</td>\n",
       "    </tr>\n",
       "    <tr>\n",
       "      <th>2</th>\n",
       "      <td>Angola</td>\n",
       "      <td>ENI</td>\n",
       "      <td>Italy</td>\n",
       "      <td>Energy</td>\n",
       "      <td>12000</td>\n",
       "      <td>Oil palm</td>\n",
       "      <td>Missing</td>\n",
       "      <td>In process</td>\n",
       "      <td>The project is a joint venture between Sonango...</td>\n",
       "    </tr>\n",
       "    <tr>\n",
       "      <th>3</th>\n",
       "      <td>Angola</td>\n",
       "      <td>AfriAgro</td>\n",
       "      <td>Portugal</td>\n",
       "      <td>Finance, real estate</td>\n",
       "      <td>5000</td>\n",
       "      <td>Oil palm</td>\n",
       "      <td>US$30-35 million</td>\n",
       "      <td>Done</td>\n",
       "      <td>AfriAgro is a subsidiary of the Portugal-based...</td>\n",
       "    </tr>\n",
       "    <tr>\n",
       "      <th>4</th>\n",
       "      <td>Angola</td>\n",
       "      <td>Eurico Ferreira</td>\n",
       "      <td>Portugal</td>\n",
       "      <td>Energy, telecommunications\\r\\n</td>\n",
       "      <td>30000</td>\n",
       "      <td>Sugar cane</td>\n",
       "      <td>US$200 million</td>\n",
       "      <td>Done</td>\n",
       "      <td>In 2008, Portuguese conglomerate Eurico Ferrei...</td>\n",
       "    </tr>\n",
       "  </tbody>\n",
       "</table>\n",
       "</div>"
      ],
      "text/plain": [
       "  Landgrabbed               Landgrabber      Base  \\\n",
       "0     Algeria                  Al Qudra       UAE   \n",
       "1      Angola  CAMC Engineering Co. Ltd     China   \n",
       "2      Angola                       ENI     Italy   \n",
       "3      Angola                  AfriAgro  Portugal   \n",
       "4      Angola           Eurico Ferreira  Portugal   \n",
       "\n",
       "                           Sector Hectares                 Production  \\\n",
       "0            Finance, real estate    31000  Milk, olive oil, potatoes   \n",
       "1                    Construction     1500                       Rice   \n",
       "2                          Energy    12000                   Oil palm   \n",
       "3            Finance, real estate     5000                   Oil palm   \n",
       "4  Energy, telecommunications\\r\\n    30000                 Sugar cane   \n",
       "\n",
       "  Projected investment Status of deal  \\\n",
       "0              Missing           Done   \n",
       "1        US$77 million          Done    \n",
       "2              Missing     In process   \n",
       "3     US$30-35 million           Done   \n",
       "4       US$200 million           Done   \n",
       "\n",
       "                                             Summary  \n",
       "0  Al Qudra Holding is a joint-stock company esta...  \n",
       "1  CAMCE is a subsidiary of the China National Ma...  \n",
       "2  The project is a joint venture between Sonango...  \n",
       "3  AfriAgro is a subsidiary of the Portugal-based...  \n",
       "4  In 2008, Portuguese conglomerate Eurico Ferrei...  "
      ]
     },
     "execution_count": 5,
     "metadata": {},
     "output_type": "execute_result"
    }
   ],
   "source": [
    "df=df.fillna(\"Missing\")\n",
    "df.head()"
   ]
  },
  {
   "cell_type": "markdown",
   "metadata": {},
   "source": [
    "# Problem 4: Fixing numbers that aren’t numbers"
   ]
  },
  {
   "cell_type": "code",
   "execution_count": 16,
   "metadata": {
    "collapsed": false
   },
   "outputs": [],
   "source": [
    "#remove million and US$ from the column\n",
    "df[\"Projected investment\"]=df[\"Projected investment\"].str.replace(\"US\\$\", \"\").str.replace(\" million\",\"\").str.replace(\" billion\",\"000\").str.strip()"
   ]
  },
  {
   "cell_type": "code",
   "execution_count": 17,
   "metadata": {
    "collapsed": false,
    "scrolled": false
   },
   "outputs": [
    {
     "data": {
      "text/plain": [
       "Missing                                                                                 310\n",
       "100                                                                                       5\n",
       "40                                                                                        4\n",
       "15                                                                                        3\n",
       "250                                                                                       3\n",
       "5                                                                                         3\n",
       "77                                                                                        2\n",
       "50                                                                                        2\n",
       "300                                                                                       2\n",
       "2 000                                                                                     2\n",
       "600                                                                                       2\n",
       "30                                                                                        2\n",
       "205 (half of fund)                                                                        2\n",
       "200                                                                                       2\n",
       "4/ha/yr (lease)                                                                           2\n",
       "120                                                                                       2\n",
       "400                                                                                       2\n",
       "254                                                                                       1\n",
       "64                                                                                        1\n",
       "160                                                                                       1\n",
       "35                                                                                        1\n",
       "42                                                                                        1\n",
       "375                                                                                       1\n",
       "456                                                                                       1\n",
       "21                                                                                        1\n",
       "788                                                                                       1\n",
       "4.8                                                                                       1\n",
       "33                                                                                        1\n",
       "1,500                                                                                     1\n",
       "10                                                                                        1\n",
       "                                                                                       ... \n",
       "65                                                                                        1\n",
       "80                                                                                        1\n",
       "111                                                                                       1\n",
       "204                                                                                       1\n",
       "27                                                                                        1\n",
       "12.5                                                                                      1\n",
       "73                                                                                        1\n",
       "569                                                                                       1\n",
       "336                                                                                       1\n",
       "6.4                                                                                       1\n",
       "45.3                                                                                      1\n",
       "4 (lease cost for 25,000 ha)                                                              1\n",
       "85                                                                                        1\n",
       "16.7                                                                                      1\n",
       "6.2                                                                                       1\n",
       "43                                                                                        1\n",
       "251                                                                                       1\n",
       "18,400                                                                                    1\n",
       "1,240                                                                                     1\n",
       "125,000/yr (land lease)                                                                   1\n",
       "1.2/ha/yr (after first 7 years) in Gambela and 8/ha/yr (after first 6 years) in Bako      1\n",
       "41                                                                                        1\n",
       "55                                                                                        1\n",
       "7.7                                                                                       1\n",
       "16.3                                                                                      1\n",
       "53.2                                                                                      1\n",
       "20                                                                                        1\n",
       "23                                                                                        1\n",
       "415                                                                                       1\n",
       "34.1                                                                                      1\n",
       "dtype: int64"
      ]
     },
     "execution_count": 17,
     "metadata": {},
     "output_type": "execute_result"
    }
   ],
   "source": [
    "#find errors in the column\n",
    "pd.value_counts(df[\"Projected investment\"].values.ravel())"
   ]
  },
  {
   "cell_type": "code",
   "execution_count": 8,
   "metadata": {
    "collapsed": true
   },
   "outputs": [],
   "source": [
    "#I was having problem changing values manually. I was not able to \"filter/find\" entries and change them manually"
   ]
  },
  {
   "cell_type": "markdown",
   "metadata": {
    "collapsed": true
   },
   "source": [
    "# Problem 5: Structural problems"
   ]
  },
  {
   "cell_type": "code",
   "execution_count": 9,
   "metadata": {
    "collapsed": false,
    "scrolled": false
   },
   "outputs": [
    {
     "data": {
      "text/plain": [
       "Oil palm                                                                   40\n",
       "Sugar cane                                                                 40\n",
       "Rice                                                                       35\n",
       "Missing                                                                    34\n",
       "Crops                                                                      30\n",
       "Cereals                                                                    12\n",
       "Maize                                                                       7\n",
       "Wheat                                                                       5\n",
       "Cassava                                                                     5\n",
       "Soybean                                                                     4\n",
       "Soybeans                                                                    4\n",
       "Fruit                                                                       4\n",
       "Dairy                                                                       4\n",
       "Crops, dairy                                                                3\n",
       "Sweet sorghum                                                               3\n",
       "Cattle                                                                      3\n",
       "Crops (mainly soybean)                                                      2\n",
       "Alfalfa                                                                     2\n",
       "Fruit, rice, vegetables                                                     2\n",
       "Livestock                                                                   2\n",
       "Cassava, sugar cane                                                         2\n",
       "Palm oil                                                                    2\n",
       "Maize, soybeans                                                             2\n",
       "Sunflower                                                                   2\n",
       "Food crops                                                                  2\n",
       "Sheep                                                                       2\n",
       "Feed, wheat                                                                 2\n",
       "Rice and other crops                                                        2\n",
       "Maize, soybean                                                              2\n",
       "Cereals, oilseeds                                                           2\n",
       "                                                                           ..\n",
       "Cotton, rice                                                                1\n",
       "Cereals, pulses, rice                                                       1\n",
       "Sugar beet                                                                  1\n",
       "Fruit, vegetables, wheat                                                    1\n",
       "Rapeseed, soybeans, wheat                                                   1\n",
       "Cattle, rye, sunflowers, wheat                                              1\n",
       "Cotton, groundnut, sesame, soybean                                          1\n",
       "Sugar                                                                       1\n",
       "Livestock, maize, oilseeds, rice, sugar cane, teff                          1\n",
       "Soybeans, wheat                                                             1\n",
       "Peanuts                                                                     1\n",
       "Maize, rice, sorghum, soybeans, sunflowers; produce & sell hybrid seeds     1\n",
       "Pistachios                                                                  1\n",
       "Maize, pulses, rice                                                         1\n",
       "Crops                                                                       1\n",
       "Forest and pasture                                                          1\n",
       "Crops (sorghum)                                                             1\n",
       "Beef cattle                                                                 1\n",
       "Dairy                                                                       1\n",
       "Cassava and oil palm                                                        1\n",
       "Dairy and grain farms                                                       1\n",
       "Animal ranching, coconut oil (export), jatropha, pineapple                  1\n",
       "Cereals, rice                                                               1\n",
       "Banana, maize, wheat                                                        1\n",
       "Cattle, crops, sugar cane                                                   1\n",
       "Superfine wool                                                              1\n",
       "Grain, dairy, livestock                                                     1\n",
       "Oil palm, sugar cane                                                        1\n",
       "Sheep, cattle, forest                                                       1\n",
       "Alfalfa, crops, livestock                                                   1\n",
       "dtype: int64"
      ]
     },
     "execution_count": 9,
     "metadata": {},
     "output_type": "execute_result"
    }
   ],
   "source": [
    "pd.value_counts(df[\"Production\"].values.ravel())"
   ]
  },
  {
   "cell_type": "code",
   "execution_count": 12,
   "metadata": {
    "collapsed": false
   },
   "outputs": [
    {
     "ename": "ImportError",
     "evalue": "cannot import name 'utils'",
     "output_type": "error",
     "traceback": [
      "\u001b[1;31m---------------------------------------------------------------------------\u001b[0m",
      "\u001b[1;31mImportError\u001b[0m                               Traceback (most recent call last)",
      "\u001b[1;32m<ipython-input-12-8dbb4786cc89>\u001b[0m in \u001b[0;36m<module>\u001b[1;34m()\u001b[0m\n\u001b[0;32m      2\u001b[0m \u001b[1;31m#df.head()\u001b[0m\u001b[1;33m\u001b[0m\u001b[1;33m\u001b[0m\u001b[0m\n\u001b[0;32m      3\u001b[0m \u001b[1;31m#pd.value_counts(df[\"Production\"].values.ravel())\u001b[0m\u001b[1;33m\u001b[0m\u001b[1;33m\u001b[0m\u001b[0m\n\u001b[1;32m----> 4\u001b[1;33m \u001b[1;32mimport\u001b[0m \u001b[0menchant\u001b[0m\u001b[1;33m\u001b[0m\u001b[0m\n\u001b[0m\u001b[0;32m      5\u001b[0m \u001b[1;33m\u001b[0m\u001b[0m\n\u001b[0;32m      6\u001b[0m \u001b[0me\u001b[0m \u001b[1;33m=\u001b[0m \u001b[0menchant\u001b[0m\u001b[1;33m.\u001b[0m\u001b[0mDict\u001b[0m\u001b[1;33m(\u001b[0m\u001b[1;33m)\u001b[0m\u001b[1;33m\u001b[0m\u001b[0m\n",
      "\u001b[1;32mC:\\Users\\jan\\Anaconda3\\lib\\site-packages\\enchant\\__init__.py\u001b[0m in \u001b[0;36m<module>\u001b[1;34m()\u001b[0m\n\u001b[0;32m     90\u001b[0m \u001b[1;33m\u001b[0m\u001b[0m\n\u001b[0;32m     91\u001b[0m \u001b[1;32mtry\u001b[0m\u001b[1;33m:\u001b[0m\u001b[1;33m\u001b[0m\u001b[0m\n\u001b[1;32m---> 92\u001b[1;33m     \u001b[1;32mfrom\u001b[0m \u001b[0menchant\u001b[0m \u001b[1;32mimport\u001b[0m \u001b[0m_enchant\u001b[0m \u001b[1;32mas\u001b[0m \u001b[0m_e\u001b[0m\u001b[1;33m\u001b[0m\u001b[0m\n\u001b[0m\u001b[0;32m     93\u001b[0m \u001b[1;32mexcept\u001b[0m \u001b[0mImportError\u001b[0m\u001b[1;33m:\u001b[0m\u001b[1;33m\u001b[0m\u001b[0m\n\u001b[0;32m     94\u001b[0m     \u001b[1;32mif\u001b[0m \u001b[1;32mnot\u001b[0m \u001b[0mos\u001b[0m\u001b[1;33m.\u001b[0m\u001b[0menviron\u001b[0m\u001b[1;33m.\u001b[0m\u001b[0mget\u001b[0m\u001b[1;33m(\u001b[0m\u001b[1;34m\"PYENCHANT_IGNORE_MISSING_LIB\"\u001b[0m\u001b[1;33m,\u001b[0m\u001b[1;32mFalse\u001b[0m\u001b[1;33m)\u001b[0m\u001b[1;33m:\u001b[0m\u001b[1;33m\u001b[0m\u001b[0m\n",
      "\u001b[1;32mC:\\Users\\jan\\Anaconda3\\lib\\site-packages\\enchant\\_enchant.py\u001b[0m in \u001b[0;36m<module>\u001b[1;34m()\u001b[0m\n\u001b[0;32m     53\u001b[0m \u001b[1;32mfrom\u001b[0m \u001b[0mctypes\u001b[0m\u001b[1;33m.\u001b[0m\u001b[0mutil\u001b[0m \u001b[1;32mimport\u001b[0m \u001b[0mfind_library\u001b[0m\u001b[1;33m\u001b[0m\u001b[0m\n\u001b[0;32m     54\u001b[0m \u001b[1;33m\u001b[0m\u001b[0m\n\u001b[1;32m---> 55\u001b[1;33m \u001b[1;32mfrom\u001b[0m \u001b[0menchant\u001b[0m \u001b[1;32mimport\u001b[0m \u001b[0mutils\u001b[0m\u001b[1;33m\u001b[0m\u001b[0m\n\u001b[0m\u001b[0;32m     56\u001b[0m \u001b[1;32mfrom\u001b[0m \u001b[0menchant\u001b[0m\u001b[1;33m.\u001b[0m\u001b[0merrors\u001b[0m \u001b[1;32mimport\u001b[0m \u001b[1;33m*\u001b[0m\u001b[1;33m\u001b[0m\u001b[0m\n\u001b[0;32m     57\u001b[0m \u001b[1;32mfrom\u001b[0m \u001b[0menchant\u001b[0m\u001b[1;33m.\u001b[0m\u001b[0mutils\u001b[0m \u001b[1;32mimport\u001b[0m \u001b[0municode\u001b[0m\u001b[1;33m\u001b[0m\u001b[0m\n",
      "\u001b[1;31mImportError\u001b[0m: cannot import name 'utils'"
     ]
    }
   ],
   "source": [
    "#df[\"Projected investment\"]=df[\"Projected investment\"]=df[\"Projected investment\"].str.replace(\"rice\", \"Rice\").str.replace(\"\\?oybean\\*\", \"Soybeans\")\n",
    "#df.head()\n",
    "#pd.value_counts(df[\"Production\"].values.ravel())\n",
    "import enchant\n",
    "\n",
    "e = enchant.Dict()\n",
    "e.tag()"
   ]
  },
  {
   "cell_type": "code",
   "execution_count": null,
   "metadata": {
    "collapsed": true
   },
   "outputs": [],
   "source": []
  }
 ],
 "metadata": {
  "kernelspec": {
   "display_name": "Python 3",
   "language": "python",
   "name": "python3"
  },
  "language_info": {
   "codemirror_mode": {
    "name": "ipython",
    "version": 3
   },
   "file_extension": ".py",
   "mimetype": "text/x-python",
   "name": "python",
   "nbconvert_exporter": "python",
   "pygments_lexer": "ipython3",
   "version": "3.4.3"
  }
 },
 "nbformat": 4,
 "nbformat_minor": 0
}
