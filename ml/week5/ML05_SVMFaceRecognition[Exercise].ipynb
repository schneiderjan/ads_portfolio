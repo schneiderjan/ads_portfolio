{
 "cells": [
  {
   "cell_type": "markdown",
   "metadata": {},
   "source": [
    "# Image Recognition with Support Vector Machines"
   ]
  },
  {
   "cell_type": "markdown",
   "metadata": {},
   "source": [
    "_In this notebook, we show how to perform face recognition using Support Vector Machines. We will use the Olivetti faces dataset, included in Scikit-learn. More info at: http://scikit-learn.org/stable/datasets/olivetti_faces.html_"
   ]
  },
  {
   "cell_type": "markdown",
   "metadata": {},
   "source": [
    "Start by importing numpy, scikit-learn, and matplotlib, the Python libraries we will be using in this chapter. Show the versions we will be using (in case you have problems running the notebooks) and use the inline plotting mode."
   ]
  },
  {
   "cell_type": "code",
   "execution_count": 1,
   "metadata": {
    "collapsed": false
   },
   "outputs": [],
   "source": [
    "import numpy as np\n",
    "import pandas as pd\n",
    "import sklearn as sk\n",
    "import matplotlib\n",
    "import matplotlib.pyplot as plt"
   ]
  },
  {
   "cell_type": "markdown",
   "metadata": {},
   "source": [
    "## 1 - Load Olivetti Face dataset"
   ]
  },
  {
   "cell_type": "markdown",
   "metadata": {},
   "source": [
    "Import the olivetti faces dataset."
   ]
  },
  {
   "cell_type": "code",
   "execution_count": 2,
   "metadata": {
    "collapsed": false
   },
   "outputs": [
    {
     "name": "stdout",
     "output_type": "stream",
     "text": [
      "Modified Olivetti faces dataset.\n",
      "\n",
      "The original database was available from (now defunct)\n",
      "\n",
      "    http://www.uk.research.att.com/facedatabase.html\n",
      "\n",
      "The version retrieved here comes in MATLAB format from the personal\n",
      "web page of Sam Roweis:\n",
      "\n",
      "    http://www.cs.nyu.edu/~roweis/\n",
      "\n",
      "There are ten different images of each of 40 distinct subjects. For some\n",
      "subjects, the images were taken at different times, varying the lighting,\n",
      "facial expressions (open / closed eyes, smiling / not smiling) and facial\n",
      "details (glasses / no glasses). All the images were taken against a dark\n",
      "homogeneous background with the subjects in an upright, frontal position (with\n",
      "tolerance for some side movement).\n",
      "\n",
      "The original dataset consisted of 92 x 112, while the Roweis version\n",
      "consists of 64x64 images.\n",
      "\n"
     ]
    }
   ],
   "source": [
    "from sklearn.datasets import fetch_olivetti_faces\n",
    "\n",
    "# Fetch the faces data\n",
    "faces = fetch_olivetti_faces()\n",
    "\n",
    "print(faces.DESCR)"
   ]
  },
  {
   "cell_type": "markdown",
   "metadata": {},
   "source": [
    "## 2 - Investigate the Olivetti Face Dataset¶"
   ]
  },
  {
   "cell_type": "markdown",
   "metadata": {},
   "source": [
    "Let's look at the data, faces.images has 400 images of faces, each one is composed by a matrix of 64x64 pixels.\n",
    "faces.data has the same data but in rows of 4096 attributes instead of matrices (4096 = 64x64)"
   ]
  },
  {
   "cell_type": "code",
   "execution_count": 3,
   "metadata": {
    "collapsed": false
   },
   "outputs": [
    {
     "name": "stdout",
     "output_type": "stream",
     "text": [
      "dict_keys(['DESCR', 'data', 'images', 'target'])\n",
      "(400, 64, 64)\n",
      "(400, 4096)\n",
      "(400,)\n"
     ]
    }
   ],
   "source": [
    "print(faces.keys())\n",
    "print(faces.images.shape)\n",
    "print(faces.data.shape)\n",
    "print(faces.target.shape)"
   ]
  },
  {
   "cell_type": "markdown",
   "metadata": {},
   "source": [
    "We don't have to scale attributes, because data is already normalized. Prove this."
   ]
  },
  {
   "cell_type": "code",
   "execution_count": 4,
   "metadata": {
    "collapsed": false
   },
   "outputs": [
    {
     "name": "stdout",
     "output_type": "stream",
     "text": [
      "[[ 0.30991736  0.36776859  0.41735536 ...,  0.15289256  0.16115703\n",
      "   0.1570248 ]\n",
      " [ 0.45454547  0.47107437  0.51239669 ...,  0.15289256  0.15289256\n",
      "   0.15289256]\n",
      " [ 0.31818181  0.40082645  0.49173555 ...,  0.14049587  0.14876033\n",
      "   0.15289256]\n",
      " ..., \n",
      " [ 0.5         0.53305787  0.60743803 ...,  0.17768595  0.14876033\n",
      "   0.19008264]\n",
      " [ 0.21487603  0.21900827  0.21900827 ...,  0.57438016  0.59090906\n",
      "   0.60330576]\n",
      " [ 0.5165289   0.46280992  0.28099173 ...,  0.35950413  0.35537189\n",
      "   0.38429752]]\n",
      "[[[ 0.30991736  0.36776859  0.41735536 ...,  0.37190083  0.33057851\n",
      "    0.30578512]\n",
      "  [ 0.3429752   0.40495867  0.43801653 ...,  0.37190083  0.33884299\n",
      "    0.3140496 ]\n",
      "  [ 0.3429752   0.41735536  0.45041323 ...,  0.38016528  0.33884299\n",
      "    0.29752067]\n",
      "  ..., \n",
      "  [ 0.21487603  0.20661157  0.22314049 ...,  0.15289256  0.16528925\n",
      "    0.17355372]\n",
      "  [ 0.20247933  0.2107438   0.2107438  ...,  0.14876033  0.16115703\n",
      "    0.16528925]\n",
      "  [ 0.20247933  0.20661157  0.20247933 ...,  0.15289256  0.16115703\n",
      "    0.1570248 ]]\n",
      "\n",
      " [[ 0.45454547  0.47107437  0.51239669 ...,  0.19008264  0.18595041\n",
      "    0.18595041]\n",
      "  [ 0.44628099  0.48347107  0.52066118 ...,  0.21487603  0.2107438\n",
      "    0.2107438 ]\n",
      "  [ 0.49586776  0.5165289   0.53305787 ...,  0.20247933  0.20661157\n",
      "    0.20661157]\n",
      "  ..., \n",
      "  [ 0.77272725  0.78099173  0.79338843 ...,  0.14462809  0.14462809\n",
      "    0.14462809]\n",
      "  [ 0.77272725  0.77685952  0.78925622 ...,  0.13636364  0.13636364\n",
      "    0.13636364]\n",
      "  [ 0.76446283  0.78925622  0.78099173 ...,  0.15289256  0.15289256\n",
      "    0.15289256]]\n",
      "\n",
      " [[ 0.31818181  0.40082645  0.49173555 ...,  0.40082645  0.35537189\n",
      "    0.30991736]\n",
      "  [ 0.30991736  0.39669421  0.47933885 ...,  0.40495867  0.37603307\n",
      "    0.30165288]\n",
      "  [ 0.26859504  0.34710744  0.45454547 ...,  0.39669421  0.37190083\n",
      "    0.30991736]\n",
      "  ..., \n",
      "  [ 0.1322314   0.09917355  0.08264463 ...,  0.13636364  0.14876033\n",
      "    0.15289256]\n",
      "  [ 0.11570248  0.09504132  0.0785124  ...,  0.14462809  0.14462809\n",
      "    0.1570248 ]\n",
      "  [ 0.11157025  0.09090909  0.0785124  ...,  0.14049587  0.14876033\n",
      "    0.15289256]]\n",
      "\n",
      " ..., \n",
      " [[ 0.5         0.53305787  0.60743803 ...,  0.28512397  0.23966943\n",
      "    0.21487603]\n",
      "  [ 0.49173555  0.54132229  0.60330576 ...,  0.29752067  0.20247933\n",
      "    0.20661157]\n",
      "  [ 0.46694216  0.55785125  0.61983472 ...,  0.29752067  0.17768595\n",
      "    0.18595041]\n",
      "  ..., \n",
      "  [ 0.03305785  0.46280992  0.5289256  ...,  0.17355372  0.17355372\n",
      "    0.16942149]\n",
      "  [ 0.1570248   0.52479339  0.53305787 ...,  0.16528925  0.1570248\n",
      "    0.18595041]\n",
      "  [ 0.45454547  0.52066118  0.53305787 ...,  0.17768595  0.14876033\n",
      "    0.19008264]]\n",
      "\n",
      " [[ 0.21487603  0.21900827  0.21900827 ...,  0.71487606  0.71487606\n",
      "    0.69421488]\n",
      "  [ 0.20247933  0.20661157  0.20661157 ...,  0.71074378  0.70661157\n",
      "    0.69421488]\n",
      "  [ 0.2107438   0.20661157  0.20661157 ...,  0.6859504   0.69008267\n",
      "    0.69421488]\n",
      "  ..., \n",
      "  [ 0.2644628   0.25619835  0.26033059 ...,  0.54132229  0.57438016\n",
      "    0.59090906]\n",
      "  [ 0.26859504  0.2644628   0.26859504 ...,  0.56198347  0.58264464\n",
      "    0.59504133]\n",
      "  [ 0.27272728  0.26859504  0.27272728 ...,  0.57438016  0.59090906\n",
      "    0.60330576]]\n",
      "\n",
      " [[ 0.5165289   0.46280992  0.28099173 ...,  0.57851237  0.54132229\n",
      "    0.60330576]\n",
      "  [ 0.5165289   0.45041323  0.29338843 ...,  0.58264464  0.55371898\n",
      "    0.57851237]\n",
      "  [ 0.5165289   0.44214877  0.29338843 ...,  0.59917355  0.57851237\n",
      "    0.54545456]\n",
      "  ..., \n",
      "  [ 0.39256197  0.41322315  0.38842976 ...,  0.33471075  0.37190083\n",
      "    0.39669421]\n",
      "  [ 0.39256197  0.38429752  0.40495867 ...,  0.33057851  0.35950413\n",
      "    0.37603307]\n",
      "  [ 0.36776859  0.40495867  0.39669421 ...,  0.35950413  0.35537189\n",
      "    0.38429752]]]\n"
     ]
    }
   ],
   "source": [
    "from sklearn.preprocessing import StandardScaler\n",
    "print(faces.data)\n",
    "print(faces.images)\n",
    "\n",
    "# printing data and images shows that all the has been normalized already\n",
    "# all values are between 0 and 1"
   ]
  },
  {
   "cell_type": "markdown",
   "metadata": {},
   "source": [
    "Plot all the faces in a matrix of 20x20, for each one, we'll put the target value in the top left corner and it's index in the bottom left corner."
   ]
  },
  {
   "cell_type": "code",
   "execution_count": 5,
   "metadata": {
    "collapsed": false
   },
   "outputs": [],
   "source": [
    "plt.figure(figsize=[64,64])\n",
    "for i in range(0,20*20):\n",
    "    cnt = i\n",
    "    plt.subplot(20,20,1+i)\n",
    "    \n",
    "#     plt.axis('off')\n",
    "    ax = plt.gca()\n",
    "    ax.set_yticks(np.arange(6,1,6))\n",
    "    ax.set_xticks(np.arange(6,6,1))\n",
    "    ax.spines['top'].set_visible(False)\n",
    "    ax.spines['right'].set_visible(False)\n",
    "    ax.spines['bottom'].set_visible(False)\n",
    "    ax.spines['left'].set_visible(False)\n",
    "#     target\n",
    "    label = ax.set_ylabel(faces.target[i], fontsize = 9)\n",
    "    ax.yaxis.set_label_coords(-0.025, 1.05)\n",
    "#     label\n",
    "    label = ax.set_xlabel(i, fontsize = 9)\n",
    "    ax.xaxis.set_label_coords(-0.025, -0.025)\n",
    "    \n",
    "    plt.imshow(faces.images[cnt].reshape(64,64),cmap = plt.cm.gray, interpolation='nearest')\n",
    "plt.show()\n",
    "# plt.imshow(faces.images.reshape(64,64),cmap=plt.cm.gray)\n",
    "# plt.show()"
   ]
  },
  {
   "cell_type": "markdown",
   "metadata": {},
   "source": [
    "## 3 - Analysis with SVM"
   ]
  },
  {
   "cell_type": "markdown",
   "metadata": {},
   "source": [
    "We will try to build a classifier whose model is a hyperplane that separates instances (points) of one class from the rest. Support Vector Machines (SVM) are supervised learning methods that try to obtain these hyperplanes in an optimal way, by selecting the ones that pass through the widest possible gaps between instances of different classes. New instances will be classified as belonging to a certain category based on which side of the surfaces they fall on. Let's import the SVC class from the sklearn.svm module. SVC stands for Support Vector Classifier: we will use SVM for classification."
   ]
  },
  {
   "cell_type": "code",
   "execution_count": 6,
   "metadata": {
    "collapsed": false
   },
   "outputs": [
    {
     "name": "stdout",
     "output_type": "stream",
     "text": [
      "SVC(C=1.0, cache_size=200, class_weight=None, coef0=0.0, degree=3, gamma=0.0,\n",
      "  kernel='linear', max_iter=-1, probability=False, random_state=None,\n",
      "  shrinking=True, tol=0.001, verbose=False)\n"
     ]
    }
   ],
   "source": [
    "from sklearn.svm import SVC\n",
    "svc_1 = SVC(kernel='linear')\n",
    "print(svc_1)"
   ]
  },
  {
   "cell_type": "markdown",
   "metadata": {
    "collapsed": false
   },
   "source": [
    "Build training and testing sets and perform 5-fold cross-validation (use the ``sklearn.cross_validation`` package for this). Show what all the accuracy scores are and compute the average value. Consult the sklearn documentation and when needed ask your teacher for help."
   ]
  },
  {
   "cell_type": "code",
   "execution_count": 7,
   "metadata": {
    "collapsed": false
   },
   "outputs": [
    {
     "name": "stdout",
     "output_type": "stream",
     "text": [
      "cross_val_score:\n",
      "[ 1.      0.9625  0.975   0.95    0.95  ]\n",
      "\n",
      "avg. score:\n",
      "0.9675\n"
     ]
    }
   ],
   "source": [
    "from sklearn import cross_validation\n",
    "X, y = faces.data, faces.target\n",
    "\n",
    "X_train, X_test, y_train, y_test = cross_validation.train_test_split(faces.data, faces.target, test_size=0.25, random_state=0)\n",
    "\n",
    "scores = cross_validation.cross_val_score(svc_1, X, y, cv=5)\n",
    "\n",
    "print(\"cross_val_score:\")\n",
    "print(scores)\n",
    "print(\"\\navg. score:\")\n",
    "print(sum(scores/len(scores)))"
   ]
  },
  {
   "cell_type": "code",
   "execution_count": 8,
   "metadata": {
    "collapsed": false
   },
   "outputs": [
    {
     "data": {
      "text/plain": [
       "0.98999999999999999"
      ]
     },
     "execution_count": 8,
     "metadata": {},
     "output_type": "execute_result"
    }
   ],
   "source": [
    "clf = svc_1.fit(X_train, y_train)\n",
    "clf.score(X_test, y_test)"
   ]
  },
  {
   "cell_type": "markdown",
   "metadata": {},
   "source": [
    "## 4 - Other Metrics"
   ]
  },
  {
   "cell_type": "markdown",
   "metadata": {},
   "source": [
    "Import the sklearn ``metrics`` package and determine also precision and recall for the test set, for _each class_. "
   ]
  },
  {
   "cell_type": "code",
   "execution_count": 9,
   "metadata": {
    "collapsed": false
   },
   "outputs": [],
   "source": [
    "from sklearn import metrics\n",
    "\n",
    "def train_and_evaluate(clf, X_train, X_test, y_train, y_test):\n",
    "    \n",
    "    clf.fit(X_train, y_train)\n",
    "    \n",
    "    print(\"Accuracy on training set:\")\n",
    "    print(clf.score(X_train, y_train))\n",
    "    print(\"Accuracy on testing set:\")\n",
    "    print(clf.score(X_test, y_test))\n",
    "    \n",
    "    y_pred = clf.predict(X_test)\n",
    "    \n",
    "    print(\"Classification Report:\")\n",
    "    print(metrics.classification_report(y_test, y_pred))\n",
    "    print(\"Confusion Matrix:\")\n",
    "    print(metrics.confusion_matrix(y_test, y_pred))"
   ]
  },
  {
   "cell_type": "markdown",
   "metadata": {},
   "source": [
    "Let's measure precision and recall on the evaluation set, for _each class_. "
   ]
  },
  {
   "cell_type": "code",
   "execution_count": 10,
   "metadata": {
    "collapsed": false
   },
   "outputs": [
    {
     "name": "stdout",
     "output_type": "stream",
     "text": [
      "Accuracy on training set:\n",
      "1.0\n",
      "Accuracy on testing set:\n",
      "0.99\n",
      "Classification Report:\n",
      "             precision    recall  f1-score   support\n",
      "\n",
      "          0       0.86      1.00      0.92         6\n",
      "          1       1.00      1.00      1.00         4\n",
      "          2       1.00      1.00      1.00         2\n",
      "          3       1.00      1.00      1.00         1\n",
      "          4       1.00      1.00      1.00         1\n",
      "          5       1.00      1.00      1.00         5\n",
      "          6       1.00      1.00      1.00         4\n",
      "          7       1.00      0.67      0.80         3\n",
      "          9       1.00      1.00      1.00         1\n",
      "         10       1.00      1.00      1.00         4\n",
      "         11       1.00      1.00      1.00         1\n",
      "         12       1.00      1.00      1.00         2\n",
      "         13       1.00      1.00      1.00         3\n",
      "         14       1.00      1.00      1.00         5\n",
      "         15       1.00      1.00      1.00         3\n",
      "         17       1.00      1.00      1.00         6\n",
      "         19       1.00      1.00      1.00         4\n",
      "         20       1.00      1.00      1.00         1\n",
      "         21       1.00      1.00      1.00         1\n",
      "         22       1.00      1.00      1.00         2\n",
      "         23       1.00      1.00      1.00         1\n",
      "         24       1.00      1.00      1.00         2\n",
      "         25       1.00      1.00      1.00         2\n",
      "         26       1.00      1.00      1.00         4\n",
      "         27       1.00      1.00      1.00         1\n",
      "         28       1.00      1.00      1.00         2\n",
      "         29       1.00      1.00      1.00         3\n",
      "         30       1.00      1.00      1.00         4\n",
      "         31       1.00      1.00      1.00         3\n",
      "         32       1.00      1.00      1.00         3\n",
      "         33       1.00      1.00      1.00         2\n",
      "         34       1.00      1.00      1.00         3\n",
      "         35       1.00      1.00      1.00         1\n",
      "         36       1.00      1.00      1.00         3\n",
      "         37       1.00      1.00      1.00         3\n",
      "         38       1.00      1.00      1.00         1\n",
      "         39       1.00      1.00      1.00         3\n",
      "\n",
      "avg / total       0.99      0.99      0.99       100\n",
      "\n",
      "Confusion Matrix:\n",
      "[[6 0 0 ..., 0 0 0]\n",
      " [0 4 0 ..., 0 0 0]\n",
      " [0 0 2 ..., 0 0 0]\n",
      " ..., \n",
      " [0 0 0 ..., 3 0 0]\n",
      " [0 0 0 ..., 0 1 0]\n",
      " [0 0 0 ..., 0 0 3]]\n"
     ]
    }
   ],
   "source": [
    "train_and_evaluate(svc_1, X_train, X_test, y_train, y_test)"
   ]
  },
  {
   "cell_type": "markdown",
   "metadata": {},
   "source": [
    "Conclusion performance of SVM for face recognition is incredibly high!"
   ]
  },
  {
   "cell_type": "markdown",
   "metadata": {},
   "source": [
    "## 5 - Discriminate People with or without Glasses"
   ]
  },
  {
   "cell_type": "markdown",
   "metadata": {},
   "source": [
    "Now, another problem: Let's try to classify images of people with and without glasses. Mark people with glasses as 1 and people without glasses as 0. "
   ]
  },
  {
   "cell_type": "code",
   "execution_count": 11,
   "metadata": {
    "collapsed": false
   },
   "outputs": [],
   "source": [
    "def create_target(segments):\n",
    "    # create a new y array of target size initialized with zeros\n",
    "    y = np.zeros(faces.target.shape[0])\n",
    "    # put 1 in the specified segments\n",
    "    for (start, end) in segments:\n",
    "        y[start:end + 1] = 1\n",
    "    return y"
   ]
  },
  {
   "cell_type": "code",
   "execution_count": 12,
   "metadata": {
    "collapsed": false
   },
   "outputs": [],
   "source": [
    "glasses = [\n",
    "    (10, 19), (30, 32), (37, 38), (50, 59), (63, 64),\n",
    "    (69, 69), (120, 121), (124, 129), (130, 139), (160, 161),\n",
    "    (164, 169), (180, 182), (185, 185), (189, 189), (190, 192),\n",
    "    (194, 194), (196, 199), (260, 269), (270, 279), (300, 309),\n",
    "    (330, 339), (358, 359), (360, 369)]\n"
   ]
  },
  {
   "cell_type": "markdown",
   "metadata": {},
   "source": [
    "Create training and test set for the new problem."
   ]
  },
  {
   "cell_type": "code",
   "execution_count": 13,
   "metadata": {
    "collapsed": false
   },
   "outputs": [],
   "source": [
    "from sklearn.cross_validation import train_test_split\n",
    "target_glasses = create_target(glasses)\n",
    "X_train, X_test, y_train, y_test = train_test_split(faces.data, target_glasses, test_size=0.25, random_state=0)"
   ]
  },
  {
   "cell_type": "markdown",
   "metadata": {},
   "source": [
    "Try again with a linear SVM kernel and show a classification report as above."
   ]
  },
  {
   "cell_type": "code",
   "execution_count": 14,
   "metadata": {
    "collapsed": false
   },
   "outputs": [
    {
     "data": {
      "text/plain": [
       "0.98999999999999999"
      ]
     },
     "execution_count": 14,
     "metadata": {},
     "output_type": "execute_result"
    }
   ],
   "source": [
    "svc_2 = SVC(kernel='linear')\n",
    "clf2 = svc_2.fit(X_train, y_train)\n",
    "clf2.score(X_test, y_test)"
   ]
  },
  {
   "cell_type": "code",
   "execution_count": 15,
   "metadata": {
    "collapsed": false
   },
   "outputs": [
    {
     "name": "stdout",
     "output_type": "stream",
     "text": [
      "Accuracy on training set:\n",
      "1.0\n",
      "Accuracy on testing set:\n",
      "0.99\n",
      "Classification Report:\n",
      "             precision    recall  f1-score   support\n",
      "\n",
      "        0.0       1.00      0.99      0.99        67\n",
      "        1.0       0.97      1.00      0.99        33\n",
      "\n",
      "avg / total       0.99      0.99      0.99       100\n",
      "\n",
      "Confusion Matrix:\n",
      "[[66  1]\n",
      " [ 0 33]]\n"
     ]
    }
   ],
   "source": [
    "train_and_evaluate(svc_2, X_train, X_test, y_train, y_test)"
   ]
  }
 ],
 "metadata": {
  "kernelspec": {
   "display_name": "Python 3",
   "language": "python",
   "name": "python3"
  },
  "language_info": {
   "codemirror_mode": {
    "name": "ipython",
    "version": 3
   },
   "file_extension": ".py",
   "mimetype": "text/x-python",
   "name": "python",
   "nbconvert_exporter": "python",
   "pygments_lexer": "ipython3",
   "version": "3.4.3"
  }
 },
 "nbformat": 4,
 "nbformat_minor": 0
}
