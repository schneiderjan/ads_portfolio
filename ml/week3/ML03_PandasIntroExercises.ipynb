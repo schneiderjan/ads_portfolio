{
 "cells": [
  {
   "cell_type": "markdown",
   "metadata": {},
   "source": [
    "## Pandas Exercise Book"
   ]
  },
  {
   "cell_type": "markdown",
   "metadata": {},
   "source": [
    "#### Introduction\n",
    "[Pandas](http://pandas.pydata.org/) (python data analysis library) is built on NumPy. Pandas is built upon the data objects Series (indexed arrays) and DataFrames (full fledged tables) Many NumPy array indexing techniques can be used in the same way when indexing pandas arrays and series.\n",
    "\n",
    "In addition to many ways to slice, dice, filter and combine data in (mostly) DataFrames, pandas als offers some data analysis models for times series analysis and simple regression. The analysis functionality of pandas is especially suited  for business related problems where many predictions are time bound. We will not use pandas for modeling: we have opted for scikit-learn.\n",
    "\n",
    "Pandas is well suited to do initial data preparation on data that is to be analysed with scikit-learn models. For is, this is the main reason to familiarize ourselves with pandas. Sklearn models are defined on NumPy arrays, but since pandas DataFrames are based on NumPy arrays, pandas can be used effectively in sklearn. In most publicly available data machine learning Notebooks, either pandas or NumPy a combination of both is used to do the initial preparation.\n",
    "\n",
    "Pandas has a lot of functionality and can almost be viewed as a language on its own: a domain specifc language (DSL) or table based data analysis. Pandas offer excellent tools to get data from CSV, Excel and databases. It incorporates SQLAlchemy to emable SQL-like manipulation of DataFrames."
   ]
  },
  {
   "cell_type": "code",
   "execution_count": 2,
   "metadata": {
    "collapsed": true
   },
   "outputs": [],
   "source": [
    "import pandas as pd\n",
    "import numpy as np\n",
    "import random as rd\n",
    "\n",
    "# Set some pandas options\n",
    "pd.set_option('display.notebook_repr_html', False)\n",
    "pd.set_option('display.max_columns', 5)\n",
    "pd.set_option('display.max_rows', 5)"
   ]
  },
  {
   "cell_type": "markdown",
   "metadata": {},
   "source": [
    "#### Creating pandas Series"
   ]
  },
  {
   "cell_type": "code",
   "execution_count": 3,
   "metadata": {
    "collapsed": false
   },
   "outputs": [
    {
     "data": {
      "text/plain": [
       "0    10\n",
       "1    11\n",
       "     ..\n",
       "8    18\n",
       "9    19\n",
       "dtype: int32"
      ]
     },
     "execution_count": 3,
     "metadata": {},
     "output_type": "execute_result"
    }
   ],
   "source": [
    "# create a pandas Series for the number list [10..20)\n",
    "pd.Series(range(10, 20))"
   ]
  },
  {
   "cell_type": "code",
   "execution_count": 4,
   "metadata": {
    "collapsed": false,
    "scrolled": true
   },
   "outputs": [
    {
     "data": {
      "text/plain": [
       "0    10\n",
       "1    11\n",
       "     ..\n",
       "8    18\n",
       "9    19\n",
       "dtype: int32"
      ]
     },
     "execution_count": 4,
     "metadata": {},
     "output_type": "execute_result"
    }
   ],
   "source": [
    "# or\n",
    "pd.Series(np.arange(10, 20))"
   ]
  },
  {
   "cell_type": "code",
   "execution_count": 5,
   "metadata": {
    "collapsed": false
   },
   "outputs": [
    {
     "data": {
      "text/plain": [
       "(Int64Index([0, 1, 2, 3, 4, 5, 6, 7, 8, 9], dtype='int64'),\n",
       " Index(['a', 'b', 'c', 'd', 'e', 'f', 'g', 'h', 'i', 'j'], dtype='object'))"
      ]
     },
     "execution_count": 5,
     "metadata": {},
     "output_type": "execute_result"
    }
   ],
   "source": [
    "s1 = pd.Series(range(10, 20))\n",
    "s2 = pd.Series(range(10, 20), index=list('abcdefghij'))\n",
    "# get the index of both lists (index is list of labels: datatype is pandas index, not genuine list!)\n",
    "s1.index, s2.index"
   ]
  },
  {
   "cell_type": "code",
   "execution_count": 6,
   "metadata": {
    "collapsed": false,
    "scrolled": true
   },
   "outputs": [
    {
     "data": {
      "text/plain": [
       "0    0.535410\n",
       "1    0.968813\n",
       "       ...   \n",
       "8    0.183213\n",
       "9    0.105715\n",
       "dtype: float64"
      ]
     },
     "execution_count": 6,
     "metadata": {},
     "output_type": "execute_result"
    }
   ],
   "source": [
    "# create a Series of 10 random numbers\n",
    "s3= pd.Series(np.random.random(10))\n",
    "s3"
   ]
  },
  {
   "cell_type": "code",
   "execution_count": 7,
   "metadata": {
    "collapsed": false
   },
   "outputs": [
    {
     "data": {
      "text/plain": [
       "0     37\n",
       "1     52\n",
       "      ..\n",
       "13    44\n",
       "14    24\n",
       "dtype: int32"
      ]
     },
     "execution_count": 7,
     "metadata": {},
     "output_type": "execute_result"
    }
   ],
   "source": [
    "# create a Series of 15 numbers equally spaced over the range [20..60]\n",
    "# remember linspace!\n",
    "pd.Series(np.random.random_integers(20,60,15))"
   ]
  },
  {
   "cell_type": "code",
   "execution_count": 8,
   "metadata": {
    "collapsed": false
   },
   "outputs": [
    {
     "data": {
      "text/plain": [
       "a    0\n",
       "b    1\n",
       "    ..\n",
       "e    4\n",
       "f    5\n",
       "dtype: int64"
      ]
     },
     "execution_count": 8,
     "metadata": {},
     "output_type": "execute_result"
    }
   ],
   "source": [
    "# create a Series from a dict\n",
    "pd.Series({c: n for c,n in zip('abcdef', range(6))})"
   ]
  },
  {
   "cell_type": "code",
   "execution_count": 9,
   "metadata": {
    "collapsed": false
   },
   "outputs": [
    {
     "data": {
      "text/plain": [
       "a    0\n",
       "b    1\n",
       "    ..\n",
       "e    4\n",
       "f    5\n",
       "dtype: int32"
      ]
     },
     "execution_count": 9,
     "metadata": {},
     "output_type": "execute_result"
    }
   ],
   "source": [
    "# this is the same as:\n",
    "pd.Series(range(6), index=list('abcdef'))\n",
    "# but why does this generate a smaller integer size???"
   ]
  },
  {
   "cell_type": "markdown",
   "metadata": {},
   "source": [
    "#### Getting and setting data from Series"
   ]
  },
  {
   "cell_type": "code",
   "execution_count": 10,
   "metadata": {
    "collapsed": false
   },
   "outputs": [
    {
     "data": {
      "text/plain": [
       "13"
      ]
     },
     "execution_count": 10,
     "metadata": {},
     "output_type": "execute_result"
    }
   ],
   "source": [
    "s1 = pd.Series(range(10, 20))\n",
    "# get the value on array position 3 (value of 4th element). We often say: get value with label 3\n",
    "s1[3]"
   ]
  },
  {
   "cell_type": "code",
   "execution_count": 11,
   "metadata": {
    "collapsed": false
   },
   "outputs": [
    {
     "data": {
      "text/plain": [
       "12"
      ]
     },
     "execution_count": 11,
     "metadata": {},
     "output_type": "execute_result"
    }
   ],
   "source": [
    "s2 = pd.Series(range(10, 20), index=list('abcdefghij'))\n",
    "# get value with label 'c'\n",
    "s2['c']"
   ]
  },
  {
   "cell_type": "code",
   "execution_count": 12,
   "metadata": {
    "collapsed": false
   },
   "outputs": [
    {
     "data": {
      "text/plain": [
       "True"
      ]
     },
     "execution_count": 12,
     "metadata": {},
     "output_type": "execute_result"
    }
   ],
   "source": [
    "# show that you can also use a textual label as an attribute (s.label)\n",
    "s2['c'] == s2.c"
   ]
  },
  {
   "cell_type": "code",
   "execution_count": 13,
   "metadata": {
    "collapsed": false
   },
   "outputs": [
    {
     "data": {
      "text/plain": [
       "True"
      ]
     },
     "execution_count": 13,
     "metadata": {},
     "output_type": "execute_result"
    }
   ],
   "source": [
    "# show that you can still use the default numerical labels\n",
    "s2[2] == s2.c"
   ]
  },
  {
   "cell_type": "code",
   "execution_count": 14,
   "metadata": {
    "collapsed": false
   },
   "outputs": [],
   "source": [
    "# but show that default labels are lost once you have passed an explicit numeric index\n",
    "s2 = pd.Series(range(10, 20), index=range(100, 110))\n",
    "# s2[0]  # throws key error: explain for yourself why\n",
    "# A: indexes are overwritten"
   ]
  },
  {
   "cell_type": "code",
   "execution_count": 15,
   "metadata": {
    "collapsed": false
   },
   "outputs": [
    {
     "data": {
      "text/plain": [
       "True"
      ]
     },
     "execution_count": 15,
     "metadata": {},
     "output_type": "execute_result"
    }
   ],
   "source": [
    "# to avoid this confusion explicit label lookup (loc) and deafult position lookup (iloc) have been defined:\n",
    "s2[101] == s2.loc[101] == s2.iloc[1]"
   ]
  },
  {
   "cell_type": "code",
   "execution_count": 16,
   "metadata": {
    "collapsed": false
   },
   "outputs": [
    {
     "data": {
      "text/plain": [
       "0   NaN\n",
       "1    11\n",
       "     ..\n",
       "8   NaN\n",
       "9    19\n",
       "dtype: float64"
      ]
     },
     "execution_count": 16,
     "metadata": {},
     "output_type": "execute_result"
    }
   ],
   "source": [
    "s = pd.Series(range(10, 20))\n",
    "# set every second value in the series to NaN (Not a Number, NumPy's version of void or null')\n",
    "#s.iloc[::2].replace(s.iloc[::2],np.nan())\n",
    "s.iloc[::2] = np.nan\n",
    "s"
   ]
  },
  {
   "cell_type": "markdown",
   "metadata": {},
   "source": [
    "#### Boolean selection (masking)"
   ]
  },
  {
   "cell_type": "code",
   "execution_count": 17,
   "metadata": {
    "collapsed": false
   },
   "outputs": [
    {
     "data": {
      "text/plain": [
       "0    10\n",
       "2    12\n",
       "4    14\n",
       "6    16\n",
       "8    18\n",
       "dtype: int32"
      ]
     },
     "execution_count": 17,
     "metadata": {},
     "output_type": "execute_result"
    }
   ],
   "source": [
    "s = pd.Series(range(10, 20))\n",
    "# get rows with even values?\n",
    "s[s%2 == 0]"
   ]
  },
  {
   "cell_type": "code",
   "execution_count": 18,
   "metadata": {
    "collapsed": false
   },
   "outputs": [
    {
     "data": {
      "text/plain": [
       "2    12\n",
       "8    18\n",
       "dtype: int32"
      ]
     },
     "execution_count": 18,
     "metadata": {},
     "output_type": "execute_result"
    }
   ],
   "source": [
    "# get rows that can be divided by 2 and by 3\n",
    "# use parenthesis and &, | and ~ as boolean operators: same as in NumPy\n",
    "s[(s%2 == 0) & (s%3==0)]"
   ]
  },
  {
   "cell_type": "code",
   "execution_count": 19,
   "metadata": {
    "collapsed": false
   },
   "outputs": [
    {
     "data": {
      "text/plain": [
       "0    10\n",
       "1    11\n",
       "     ..\n",
       "8    18\n",
       "9    19\n",
       "dtype: int32"
      ]
     },
     "execution_count": 19,
     "metadata": {},
     "output_type": "execute_result"
    }
   ],
   "source": [
    "# reindex s1 so as to have a decent index again\n",
    "s1.index = range(s1.size)\n",
    "s1.index = range(0,len(s1))\n",
    "s1"
   ]
  },
  {
   "cell_type": "code",
   "execution_count": 20,
   "metadata": {
    "collapsed": false
   },
   "outputs": [
    {
     "data": {
      "text/plain": [
       "True"
      ]
     },
     "execution_count": 20,
     "metadata": {},
     "output_type": "execute_result"
    }
   ],
   "source": [
    "# you can also use predicates all() and any() in a way similar to their usage in SQL:\n",
    "s1 = s[(s%2 == 0) | (s%3 == 0)]\n",
    "((s1%2 == 0) | (s1%3 == 0)).all()  # true because we explictly set so"
   ]
  },
  {
   "cell_type": "code",
   "execution_count": 21,
   "metadata": {
    "collapsed": false
   },
   "outputs": [
    {
     "data": {
      "text/plain": [
       "True"
      ]
     },
     "execution_count": 21,
     "metadata": {},
     "output_type": "execute_result"
    }
   ],
   "source": [
    "# or\n",
    "np.all((s1%2 == 0) | (s1%3 == 0))"
   ]
  },
  {
   "cell_type": "markdown",
   "metadata": {},
   "source": [
    "There's a lot more to Series. Consult the online documentation if you run into an unknown construction in some of the code you are studying."
   ]
  },
  {
   "cell_type": "markdown",
   "metadata": {},
   "source": [
    "#### Creating pandas DataFrames\n",
    "DataFrames are 2 dimensional arrays with row and column labels. You can construct them from any 2 dimensional structure you might expect."
   ]
  },
  {
   "cell_type": "code",
   "execution_count": 22,
   "metadata": {
    "collapsed": false
   },
   "outputs": [
    {
     "data": {
      "text/plain": [
       "   0  1\n",
       "0  1  2\n",
       "1  3  4"
      ]
     },
     "execution_count": 22,
     "metadata": {},
     "output_type": "execute_result"
    }
   ],
   "source": [
    "# construct from list\n",
    "pd.DataFrame([[1,2], [3,4]])"
   ]
  },
  {
   "cell_type": "code",
   "execution_count": 23,
   "metadata": {
    "collapsed": false
   },
   "outputs": [
    {
     "data": {
      "text/plain": [
       "   0  1\n",
       "0  1  2\n",
       "1  3  4"
      ]
     },
     "execution_count": 23,
     "metadata": {},
     "output_type": "execute_result"
    }
   ],
   "source": [
    "# construct from 2 dim NumPy array\n",
    "pd.DataFrame(np.array([[1,2], [3,4]]))"
   ]
  },
  {
   "cell_type": "code",
   "execution_count": 24,
   "metadata": {
    "collapsed": false
   },
   "outputs": [
    {
     "data": {
      "text/plain": [
       "    0   1   2   3   4\n",
       "0   0   1   2   3   4\n",
       "1  10  11  12  13  14"
      ]
     },
     "execution_count": 24,
     "metadata": {},
     "output_type": "execute_result"
    }
   ],
   "source": [
    "# construct from Series; Series should be equal sized; each Series will be a row\n",
    "pd.DataFrame([pd.Series(range(5)), pd.Series(range(10,15))])"
   ]
  },
  {
   "cell_type": "code",
   "execution_count": 25,
   "metadata": {
    "collapsed": false
   },
   "outputs": [
    {
     "data": {
      "text/plain": [
       "          a         b         c         d\n",
       "0  0.178707  0.936054  0.721599  0.687695\n",
       "1  0.910920  0.899745  0.227597  0.281344\n",
       "2  0.090445  0.237517  0.609493  0.612048"
      ]
     },
     "execution_count": 25,
     "metadata": {},
     "output_type": "execute_result"
    }
   ],
   "source": [
    "# yet another variant\n",
    "pd.DataFrame(np.array(np.random.rand(12)).reshape(3,4), columns = list('abcd'))"
   ]
  },
  {
   "cell_type": "code",
   "execution_count": 26,
   "metadata": {
    "collapsed": false
   },
   "outputs": [
    {
     "data": {
      "text/plain": [
       "      y     x\n",
       "2014  1   aap\n",
       "2015  2  noot"
      ]
     },
     "execution_count": 26,
     "metadata": {},
     "output_type": "execute_result"
    }
   ],
   "source": [
    "# create the dataframe\n",
    "#           y     x\n",
    "#     2014  1   aap\n",
    "#     2015  2  noot\n",
    "# from the Python dict data. \n",
    "data = {'y': [1,2], 'x':[\"aap\", \"noot\"]}\n",
    "pd.DataFrame(data, index=[2014, 2015], columns=['y', 'x'])"
   ]
  },
  {
   "cell_type": "code",
   "execution_count": 27,
   "metadata": {
    "collapsed": false,
    "scrolled": false
   },
   "outputs": [
    {
     "data": {
      "text/plain": [
       "           Ajax  Feyenoord  PSV\n",
       "Ajax        NaN          1    1\n",
       "Feyenoord     1        NaN    3\n",
       "PSV           2          1  NaN"
      ]
     },
     "execution_count": 27,
     "metadata": {},
     "output_type": "execute_result"
    }
   ],
   "source": [
    "# what about this one:\n",
    "clubs = ['Ajax', 'Feyenoord', 'PSV']\n",
    "m = len(clubs)\n",
    "df_competition = pd.DataFrame(np.array(np.random.randint(1,4,9)).reshape(m,m), columns=clubs, index=clubs)\n",
    "for i in range(m):\n",
    "    df_competition.iloc[i,i] = np.nan   # you could also use iat[] which is faster but less widely used\n",
    "    \n",
    "df_competition\n",
    "\n",
    "# df_competition[c1,c2] is the number of points for c1 in their (home) match against c2\n",
    "# can you find a random seed that makes PSV champion\n",
    "# or, quite challenging, can you create code to generate the final competiton table (\"eindstand\", nr of points for each club)"
   ]
  },
  {
   "cell_type": "code",
   "execution_count": 28,
   "metadata": {
    "collapsed": false
   },
   "outputs": [
    {
     "data": {
      "text/plain": [
       "           Ajax  Feyenoord  PSV\n",
       "Ajax        NaN          3    3\n",
       "Feyenoord     2        NaN    2\n",
       "PSV           2          3  NaN"
      ]
     },
     "execution_count": 28,
     "metadata": {},
     "output_type": "execute_result"
    }
   ],
   "source": [
    "# done differently and more idiomatic NumPy: always think vectorization and try to do it declarative!\n",
    "# look up the meaning of the used methods\n",
    "clubs = ['Ajax', 'Feyenoord', 'PSV']\n",
    "m = len(clubs)\n",
    "df_competition = pd.DataFrame(np.array(np.random.randint(1,4,9)).reshape(m,m), columns=clubs, index=clubs)\n",
    "df_competition.where(np.eye(m) != 1)"
   ]
  },
  {
   "cell_type": "markdown",
   "metadata": {},
   "source": [
    "#### Getting and setting data from DataFrames\n",
    "It took me a little while to wrap my head around the []-operator on DataFrames. It is heavily overloaded:\n",
    "- if the paramater is a single value, it always identifies a single column and it returns a Series which is a view on the  DataFrame where it is taken from.\n",
    "- if the parameter is a slicer object, it always identiefies a set of rows and it returns a DataFrame object, which is again a view on the DataFrame it is taken from.\n",
    "\n",
    "If you want scalar lookup (retrieve the value of a single cell), you can use either loc[] or at[] (or any of their variants)"
   ]
  },
  {
   "cell_type": "code",
   "execution_count": 29,
   "metadata": {
    "collapsed": false
   },
   "outputs": [
    {
     "data": {
      "text/plain": [
       "      AMS\n",
       "2014    0\n",
       "2015    3"
      ]
     },
     "execution_count": 29,
     "metadata": {},
     "output_type": "execute_result"
    }
   ],
   "source": [
    "df = pd.DataFrame(np.arange(6).reshape(2,3), index=[2014, 2015], columns=['AMS', 'EHV', 'RTD'])\n",
    "# return the first column. This returns a Series\n",
    "df.ix[:,0:1]"
   ]
  },
  {
   "cell_type": "code",
   "execution_count": 30,
   "metadata": {
    "collapsed": false
   },
   "outputs": [
    {
     "data": {
      "text/plain": [
       "      AMS\n",
       "2014    0\n",
       "2015    3"
      ]
     },
     "execution_count": 30,
     "metadata": {},
     "output_type": "execute_result"
    }
   ],
   "source": [
    "# in contrast to Series, you can't use a column number if the type of column labels is not integer\n",
    "# df[0]    # commented out: won't work\n",
    "# but you could use iloc() for positional addressing:\n",
    "# use iloc() to get the first column\n",
    "df.iloc[:,0:1]"
   ]
  },
  {
   "cell_type": "code",
   "execution_count": 31,
   "metadata": {
    "collapsed": false
   },
   "outputs": [
    {
     "data": {
      "text/plain": [
       "      AMS  EHV  RTD\n",
       "2015    3    4    5"
      ]
     },
     "execution_count": 31,
     "metadata": {},
     "output_type": "execute_result"
    }
   ],
   "source": [
    "# return the last row of DataFrame df. This returns a Series\n",
    "df.iloc[-1:,:]"
   ]
  },
  {
   "cell_type": "code",
   "execution_count": 32,
   "metadata": {
    "collapsed": false
   },
   "outputs": [
    {
     "data": {
      "text/plain": [
       "      AMS  EHV  RTD\n",
       "2015    3    4    5"
      ]
     },
     "execution_count": 32,
     "metadata": {},
     "output_type": "execute_result"
    }
   ],
   "source": [
    "# return the last row of DataFrame df, but now return a DataFrame\n",
    "df[-1:]"
   ]
  },
  {
   "cell_type": "code",
   "execution_count": 33,
   "metadata": {
    "collapsed": false
   },
   "outputs": [
    {
     "data": {
      "text/plain": [
       "array([[3, 4, 5]])"
      ]
     },
     "execution_count": 33,
     "metadata": {},
     "output_type": "execute_result"
    }
   ],
   "source": [
    "# return the data in the last row od DataFrame df. Return as a NumPy array.\n",
    "# use the values() method\n",
    "df[-1:].values"
   ]
  },
  {
   "cell_type": "code",
   "execution_count": 34,
   "metadata": {
    "collapsed": false
   },
   "outputs": [
    {
     "data": {
      "text/plain": [
       "[[3, 4, 5]]"
      ]
     },
     "execution_count": 34,
     "metadata": {},
     "output_type": "execute_result"
    }
   ],
   "source": [
    "# return the data in the last row od DataFrame df. Return as a list.\n",
    "# use the tolist() method\n",
    "df[-1:].values.tolist()"
   ]
  },
  {
   "cell_type": "markdown",
   "metadata": {},
   "source": [
    "#### Adding data to DataFrames"
   ]
  },
  {
   "cell_type": "code",
   "execution_count": 35,
   "metadata": {
    "collapsed": false
   },
   "outputs": [
    {
     "data": {
      "text/plain": [
       "      P  Q  R   S\n",
       "2014  0  1  2  10\n",
       "2015  3  4  5  11"
      ]
     },
     "execution_count": 35,
     "metadata": {},
     "output_type": "execute_result"
    }
   ],
   "source": [
    "df = pd.DataFrame(np.arange(6).reshape(2,3), index=[2014,2015], columns=list(\"PQR\"))\n",
    "# add column S with values [10,11]\n",
    "df.insert(len(df.columns),\"S\",[10,11])\n",
    "df"
   ]
  },
  {
   "cell_type": "code",
   "execution_count": 36,
   "metadata": {
    "collapsed": false
   },
   "outputs": [
    {
     "data": {
      "text/plain": [
       "      P  Q  R\n",
       "2015  0  1  2\n",
       "2015  3  4  5\n",
       "0     6  7  8"
      ]
     },
     "execution_count": 36,
     "metadata": {},
     "output_type": "execute_result"
    }
   ],
   "source": [
    "df = pd.DataFrame(np.arange(6).reshape(2,3), index=[2015,2015], columns=list(\"PQR\"))\n",
    "# append row [6,7,8] with label 2015 to dataframe\n",
    "#df.append(df.iloc[-1],2015,[6,7,8])\n",
    "df = df.append([{'P':6,'Q':7, 'R':8}])\n",
    "df"
   ]
  },
  {
   "cell_type": "code",
   "execution_count": 37,
   "metadata": {
    "collapsed": false
   },
   "outputs": [
    {
     "data": {
      "text/plain": [
       "<pandas.core.indexing._LocIndexer at 0x8034c50>"
      ]
     },
     "execution_count": 37,
     "metadata": {},
     "output_type": "execute_result"
    }
   ],
   "source": [
    "df = pd.DataFrame(np.arange(6).reshape(2,3), index=[2014,2015], columns=list(\"PQR\"))\n",
    "# add column S with values [10,11]. Use loc().\n",
    "s = [10,11]\n",
    "df.loc\n",
    "# Now you can use a single method to add rows and columns."
   ]
  },
  {
   "cell_type": "code",
   "execution_count": 38,
   "metadata": {
    "collapsed": false
   },
   "outputs": [
    {
     "data": {
      "text/plain": [
       "      P  Q  R\n",
       "2014  0  1  2\n",
       "2015  3  4  5\n",
       "2016  6  7  8"
      ]
     },
     "execution_count": 38,
     "metadata": {},
     "output_type": "execute_result"
    }
   ],
   "source": [
    "df = pd.DataFrame(np.arange(6).reshape(2,3), index=[2014,2015], columns=list(\"PQR\"))\n",
    "# append row [6,7,8] with label 2015 to dataframe by transposing, adding, transposing\n",
    "df = df.T\n",
    "df[2016] = [6,7,8]\n",
    "df = df.T\n",
    "df"
   ]
  },
  {
   "cell_type": "markdown",
   "metadata": {},
   "source": [
    "#### Views versus copies\n",
    "View/copy semantics are largely inherited form NumPy. Read [this article](http://tinyurl.com/q3vz2je) to understand the NumPy rules. Then read this [thorough explanation on SO](http://goo.gl/a43POn) that is specifically for pandas.\n",
    "\n",
    "Can you explain the subtleties below?"
   ]
  },
  {
   "cell_type": "code",
   "execution_count": 1,
   "metadata": {
    "collapsed": false
   },
   "outputs": [
    {
     "ename": "NameError",
     "evalue": "name 'pd' is not defined",
     "output_type": "error",
     "traceback": [
      "\u001b[1;31m---------------------------------------------------------------------------\u001b[0m",
      "\u001b[1;31mNameError\u001b[0m                                 Traceback (most recent call last)",
      "\u001b[1;32m<ipython-input-1-f25f839b3b90>\u001b[0m in \u001b[0;36m<module>\u001b[1;34m()\u001b[0m\n\u001b[1;32m----> 1\u001b[1;33m \u001b[0mdf\u001b[0m \u001b[1;33m=\u001b[0m \u001b[0mpd\u001b[0m\u001b[1;33m.\u001b[0m\u001b[0mDataFrame\u001b[0m\u001b[1;33m(\u001b[0m\u001b[0mnp\u001b[0m\u001b[1;33m.\u001b[0m\u001b[0marange\u001b[0m\u001b[1;33m(\u001b[0m\u001b[1;36m6\u001b[0m\u001b[1;33m)\u001b[0m\u001b[1;33m.\u001b[0m\u001b[0mreshape\u001b[0m\u001b[1;33m(\u001b[0m\u001b[1;36m2\u001b[0m\u001b[1;33m,\u001b[0m\u001b[1;36m3\u001b[0m\u001b[1;33m)\u001b[0m\u001b[1;33m,\u001b[0m \u001b[0mindex\u001b[0m\u001b[1;33m=\u001b[0m\u001b[1;33m[\u001b[0m\u001b[1;36m2014\u001b[0m\u001b[1;33m,\u001b[0m\u001b[1;36m2015\u001b[0m\u001b[1;33m]\u001b[0m\u001b[1;33m,\u001b[0m \u001b[0mcolumns\u001b[0m\u001b[1;33m=\u001b[0m\u001b[0mlist\u001b[0m\u001b[1;33m(\u001b[0m\u001b[1;34m\"PQR\"\u001b[0m\u001b[1;33m)\u001b[0m\u001b[1;33m)\u001b[0m\u001b[1;33m\u001b[0m\u001b[0m\n\u001b[0m\u001b[0;32m      2\u001b[0m \u001b[0mdf1\u001b[0m \u001b[1;33m=\u001b[0m \u001b[0mdf\u001b[0m\u001b[1;33m[\u001b[0m\u001b[1;33m[\u001b[0m\u001b[1;34m'P'\u001b[0m\u001b[1;33m,\u001b[0m \u001b[1;34m'R'\u001b[0m\u001b[1;33m]\u001b[0m\u001b[1;33m]\u001b[0m\u001b[1;33m\u001b[0m\u001b[0m\n\u001b[0;32m      3\u001b[0m \u001b[0mdf1\u001b[0m\u001b[1;33m.\u001b[0m\u001b[0mloc\u001b[0m\u001b[1;33m[\u001b[0m\u001b[1;36m2015\u001b[0m\u001b[1;33m,\u001b[0m \u001b[1;34m'R'\u001b[0m\u001b[1;33m]\u001b[0m \u001b[1;33m=\u001b[0m \u001b[1;33m-\u001b[0m\u001b[1;36m1\u001b[0m\u001b[1;33m\u001b[0m\u001b[0m\n\u001b[0;32m      4\u001b[0m \u001b[0mdf\u001b[0m\u001b[1;33m\u001b[0m\u001b[0m\n",
      "\u001b[1;31mNameError\u001b[0m: name 'pd' is not defined"
     ]
    }
   ],
   "source": [
    "df = pd.DataFrame(np.arange(6).reshape(2,3), index=[2014,2015], columns=list(\"PQR\"))\n",
    "df1 = df[['P', 'R']]\n",
    "df1.loc[2015, 'R'] = -1\n",
    "df"
   ]
  },
  {
   "cell_type": "code",
   "execution_count": 125,
   "metadata": {
    "collapsed": false
   },
   "outputs": [
    {
     "data": {
      "text/plain": [
       "      P  Q  R\n",
       "2014  0  1  2\n",
       "2015  3  4 -1"
      ]
     },
     "execution_count": 125,
     "metadata": {},
     "output_type": "execute_result"
    }
   ],
   "source": [
    "df = pd.DataFrame(np.arange(6).reshape(2,3), index=[2014,2015], columns=list(\"PQR\"))\n",
    "df1 = df\n",
    "df1.loc[2015, 'R'] = -1\n",
    "df"
   ]
  },
  {
   "cell_type": "code",
   "execution_count": 126,
   "metadata": {
    "collapsed": false
   },
   "outputs": [
    {
     "data": {
      "text/plain": [
       "      P  Q  R\n",
       "2014  0  1  2\n",
       "2015  3  4 -1"
      ]
     },
     "execution_count": 126,
     "metadata": {},
     "output_type": "execute_result"
    }
   ],
   "source": [
    "df = pd.DataFrame(np.arange(6).reshape(2,3), index=[2014,2015], columns=list(\"PQR\"))\n",
    "df1 = df[:]\n",
    "df1.loc[2015, 'R'] = -1\n",
    "df"
   ]
  }
 ],
 "metadata": {
  "kernelspec": {
   "display_name": "Python 3",
   "language": "python",
   "name": "python3"
  },
  "language_info": {
   "codemirror_mode": {
    "name": "ipython",
    "version": 3
   },
   "file_extension": ".py",
   "mimetype": "text/x-python",
   "name": "python",
   "nbconvert_exporter": "python",
   "pygments_lexer": "ipython3",
   "version": "3.4.3"
  }
 },
 "nbformat": 4,
 "nbformat_minor": 0
}
