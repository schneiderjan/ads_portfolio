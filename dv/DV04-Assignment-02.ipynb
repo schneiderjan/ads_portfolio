{
 "cells": [
  {
   "cell_type": "markdown",
   "metadata": {},
   "source": [
    "# ADS-DV Week 4 Assignment 2\n",
    "\n",
    "# Adding value to an article using visualizations\n",
    "\n",
    "## Summary\n",
    "In this assignment you will practice choosing the right chart types and applying the design rules and general guidelines from scratch.\n",
    "\n",
    "## Assignment\n",
    "\n",
    "Nowadays, newspapers and magazines are full with infographics and data visualizations. But still some articles choose not to use any, but could very well use one or two.\n",
    "\n",
    "Your task is to add (at least) **two** infographics/data visualizations to this New Yorker article. Browse the text and find a greatly missed opportunity for a graphic, then using data from the text and if needed your own imagination, create one. You are free in choosing a tool. If you use Python then add your source code below. ** Explain the design choices you've made in detail, like in assignment 1! ** Also answer the question what the plot wants to show or explain and how your design helps with that.\n",
    "\n",
    "http://www.newyorker.com/magazine/2013/01/07/adaptation-2\n",
    "\n",
    "If you think it is hard to start you can read up on how to create infographics in the following document: <a href=\"resources/InfographicsDesignProcess.pdf\">Infographics Design Process</a>.\n"
   ]
  },
  {
   "cell_type": "markdown",
   "metadata": {},
   "source": [
    "## Solution"
   ]
  },
  {
   "cell_type": "code",
   "execution_count": 3,
   "metadata": {
    "collapsed": true
   },
   "outputs": [],
   "source": [
    "# add the chart and the part of the article it relates to"
   ]
  },
  {
   "cell_type": "code",
   "execution_count": 4,
   "metadata": {
    "collapsed": true
   },
   "outputs": [],
   "source": [
    "# optionally: add python code here to create the graphs"
   ]
  },
  {
   "cell_type": "code",
   "execution_count": 5,
   "metadata": {
    "collapsed": true
   },
   "outputs": [],
   "source": [
    "# write your detailed design process (design choices) and explanation of the chart."
   ]
  },
  {
   "cell_type": "markdown",
   "metadata": {},
   "source": [
    "## Optional assignment\n",
    "Attempt to add metaphoric elements to your plot to create a true infographic. We will return to metaphoric thinking in a later lesson."
   ]
  },
  {
   "cell_type": "code",
   "execution_count": null,
   "metadata": {
    "collapsed": true
   },
   "outputs": [],
   "source": [
    "# your inforgraphic here"
   ]
  }
 ],
 "metadata": {
  "kernelspec": {
   "display_name": "Python 3",
   "language": "python",
   "name": "python3"
  },
  "language_info": {
   "codemirror_mode": {
    "name": "ipython",
    "version": 3
   },
   "file_extension": ".py",
   "mimetype": "text/x-python",
   "name": "python",
   "nbconvert_exporter": "python",
   "pygments_lexer": "ipython3",
   "version": "3.4.3"
  }
 },
 "nbformat": 4,
 "nbformat_minor": 0
}
