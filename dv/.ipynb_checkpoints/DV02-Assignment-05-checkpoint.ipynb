{
 "cells": [
  {
   "cell_type": "markdown",
   "metadata": {},
   "source": [
    "# ADS-DV Week 2 Assignment 5\n",
    "\n",
    "# Recreating a multiple line graph\n",
    "\n",
    "## Summary\n",
    "This assignment lets you dive deep into paying attention to details in a plot by recreating someone else's data visualization."
   ]
  },
  {
   "cell_type": "markdown",
   "metadata": {},
   "source": [
    "## Recreating a plot\n",
    "You are going to recreate the first plot in the following article about tall Dutch people:\n",
    "\n",
    "http://www.randalolson.com/2014/06/23/why-the-dutch-are-so-tall/\n",
    "\n",
    "To help you on your way, we download the dataset first and clean it by interpolating missing data, see also http://pandas.pydata.org/pandas-docs/stable/missing_data.html.\n",
    "\n",
    "The color series used in the plot is taken from the default Tableau color scheme. In the following blogpost you can read how you can use it in your plots: http://www.randalolson.com/2014/06/28/how-to-make-beautiful-data-visualizations-in-python-with-matplotlib/. It also helps you with adding the Country annotations.\n",
    "\n",
    "Try to reproduce the plot as closely as possible. Good luck!!\n",
    "\n",
    "Do you agree with the conclusions from the article?\n"
   ]
  },
  {
   "cell_type": "code",
   "execution_count": 9,
   "metadata": {
    "collapsed": false
   },
   "outputs": [],
   "source": [
    "import pandas as pd\n",
    "import numpy as np\n",
    "import matplotlib.pyplot as plt\n",
    "%matplotlib inline\n",
    "\n",
    "heights = pd.read_csv('http://files.figshare.com/1545826/world_heights.csv')\n",
    "heights_cleaned = heights.interpolate()"
   ]
  },
  {
   "cell_type": "code",
   "execution_count": null,
   "metadata": {
    "collapsed": true
   },
   "outputs": [],
   "source": []
  }
 ],
 "metadata": {
  "kernelspec": {
   "display_name": "Python 3",
   "language": "python",
   "name": "python3"
  },
  "language_info": {
   "codemirror_mode": {
    "name": "ipython",
    "version": 3
   },
   "file_extension": ".py",
   "mimetype": "text/x-python",
   "name": "python",
   "nbconvert_exporter": "python",
   "pygments_lexer": "ipython3",
   "version": "3.4.3"
  }
 },
 "nbformat": 4,
 "nbformat_minor": 0
}
