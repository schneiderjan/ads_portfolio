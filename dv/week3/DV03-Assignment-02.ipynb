{
 "cells": [
  {
   "cell_type": "markdown",
   "metadata": {},
   "source": [
    "# ADS-DV Week 3 Assignment 2\n",
    "\n",
    "# Data exploration with Tableau\n",
    "\n",
    "## Summary\n",
    "This assignment lets you get familiar with working with Tableau.\n",
    "\n",
    "## Tableau Desktop\n",
    "Tableau has grown in a few years time to one of the most popular data visuazalization tools in the business intelligence (BI) and data science world. While its GUI interface and output make it difficult to fit into a reproducible workflow, it can be extremely useful.\n",
    "\n",
    "* It connects easily to all kinds of data sources, including database servers (plugin sometimes needed) and Spark.\n",
    "* It allows you to create elaborate explorative plots that follow many design principles.\n",
    "* You can deploy presentation quality interactive visualizations with storytelling elements connected with streaming data.\n",
    "\n",
    "## Working with Tableau\n",
    "While the interface of Tableau is certainly intuitive, it appears very daunting at first. There are many resources to help you learn working with Tableau:\n",
    "\n",
    "* http://www.tableau.com/learn/training (check out the on-demand videos)\n",
    "* http://www.tableau.com/support/manuals/quickstart (quickstart guides)\n",
    "\n",
    "However, we prefer a more hands-on approach in which you will create several visualizations from a tutorial.\n",
    "\n",
    "## Assignment A\n",
    "Download the following Tableau workbook **Introduction to Tableau - Music Sales - TfT.twbx**:\n",
    "\n",
    "http://app.corp.tableausoftware.com/e/er?s=840&lid=4292&elq=bdd033802ff44f7e8854575c16ca53de\n",
    "\n",
    "Open the file in Tableau and follow the instructions. In the end you will have created a Dashboard visualization. Export the Dashboard as an image. (Menu -> Dashboard -> Export Image).\n",
    "\n",
    "Save your workbook in your portfolio. Include your image in the notebook using MarkDown (see cell below).\n",
    "\n",
    "\n"
   ]
  },
  {
   "cell_type": "markdown",
   "metadata": {},
   "source": [
    "<img src=\"resources/dashboard_assignment_a.jpg\"> "
   ]
  },
  {
   "cell_type": "markdown",
   "metadata": {},
   "source": [
    "## Assignment B (recommended)\n",
    "This workbook tutorial contains exercises on using the scripting language of Tableau. It shows how powerful Tableau can be but it may be too much if you are only interested in preliminary exploration of your data.\n",
    "\n",
    "Download the following Tableau workbook **Calculations Tutorial - Fundraising - TfT.twbx**:\n",
    "\n",
    "http://app.corp.tableausoftware.com/e/er?s=840&lid=4293&elq=bdd033802ff44f7e8854575c16ca53de\n",
    "\n",
    "Open the file in Tableau and follow the instructions. In the end you will have created a Dashboard visualization. Export the Dashboard as an image. (Menu -> Dashboard -> Export Image).\n",
    "\n",
    "Save your workbook in your portfolio. Include your image in the notebook using MarkDown in the cell below."
   ]
  },
  {
   "cell_type": "markdown",
   "metadata": {},
   "source": [
    "<img src=\"resources/your-dashboard.png\">"
   ]
  },
  {
   "cell_type": "markdown",
   "metadata": {},
   "source": [
    "## Assignment C (optional)\n",
    "This workbook tutorial contains exercises on creating maps and may be a bit too specific.\n",
    "\n",
    "Download the following Tableau workbook **Mapping Tutorial - Foodie Trip - TfT.twbx**:\n",
    "\n",
    "http://app.corp.tableausoftware.com/e/er?s=840&lid=4294&elq=bdd033802ff44f7e8854575c16ca53de\n",
    "\n",
    "Open the file in Tableau and follow the instructions. In the end you will have created a Dashboard visualization. Export the Dashboard as an image. (Menu -> Dashboard -> Export Image).\n",
    "\n",
    "Save your workbook in your portfolio. Include your image in the notebook using MarkDown in the cell below. "
   ]
  },
  {
   "cell_type": "markdown",
   "metadata": {},
   "source": [
    "<img src=\"resources/your-dashboard.png\">"
   ]
  }
 ],
 "metadata": {
  "kernelspec": {
   "display_name": "Python 3",
   "language": "python",
   "name": "python3"
  },
  "language_info": {
   "codemirror_mode": {
    "name": "ipython",
    "version": 3
   },
   "file_extension": ".py",
   "mimetype": "text/x-python",
   "name": "python",
   "nbconvert_exporter": "python",
   "pygments_lexer": "ipython3",
   "version": "3.4.3"
  }
 },
 "nbformat": 4,
 "nbformat_minor": 0
}
