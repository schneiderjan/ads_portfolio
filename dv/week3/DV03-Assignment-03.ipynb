{
 "cells": [
  {
   "cell_type": "markdown",
   "metadata": {},
   "source": [
    "# ADS-DV Week 3 Assignment 3\n",
    "\n",
    "# Data exploration with Tableau\n",
    "\n",
    "## Summary\n",
    "This assignment lets you practice data exploration from scratch using Tableau.\n",
    "\n",
    "## Data exploration workflow\n",
    "To guide you in this assignment you can follow this workflow:\n",
    "\n",
    "1. First you have to find an interesting dataset. Tableau links to a set of interesting and compatible datasets: https://public.tableau.com/s/resources\n",
    "2. Connect with your data in Tableau. You can import and join multiple datasets.\n",
    "3. Browse you data and make sure you have an overview of the dimensions and measures in your dataset.\n",
    "4. Formulate questions about the data, or at least one to start with.\n",
    "5. Try to get an insight into the answer to your question by creating a visualization. Start by looking for the dimensions and measures that could help you reach the answer and what measures to assign to size, colors and labels. Do you need to filter the data?\n",
    "6. Did you answer the question? Then pose and answer the next question.\n",
    "7. Create a Dashboard that gives an overview of your visualizations.\n",
    "\n",
    "\n",
    "## Assignment A\n",
    "Download one of the datasets from the link above that interests you. Alternatively, you can use a different dataset. In that case, make sure you include the link or dataset in this iPython Notebook.\n",
    "\n",
    "As you have seen in the tutorial workbooks of the previous assignment, the visualizations start with a question such as: 'Which artists sell the most?'. When you pose a question, think of searching for outliers, trends or clusters.\n",
    "\n",
    "Ask 3 questions about your dataset and include them here. Then start the exploration workflow and include the resulting dashboard in this notebook."
   ]
  },
  {
   "cell_type": "markdown",
   "metadata": {},
   "source": [
    "### Dataset used\n",
    "I used the following dataset: Top Baby Names in the US\n",
    "\n",
    "### Questions about the dataset\n",
    "1. Which is the most popular name each year?\n",
    "2. Which is the most popular name of all time?\n",
    "\n",
    "### Dasboard\n",
    "<img src=\"resources/dashboard_assignment_03.jpg\">"
   ]
  },
  {
   "cell_type": "markdown",
   "metadata": {},
   "source": [
    "## Assignment B (optional)\n",
    "While you can create beautiful visualizations that are extremely useful in the data expoloration phase with Tableau, if you want to use it as part of reproducible research you have to be able to get to the same visualization using Python.\n",
    "\n",
    "This assignment is an optional challenge. Recreate your dashboard above using iPython. This means you must:\n",
    "\n",
    "1. Import the data into iPython.\n",
    "2. Depending on your Tableau plots, clean or filter your data.\n",
    "3. Plot using a Python library such as Matplotlib.\n",
    "\n",
    "You do not have to reproduce exactly the style and colors of the Tableau plots, but they should be similar enough to give the same insights. Good luck!"
   ]
  },
  {
   "cell_type": "code",
   "execution_count": null,
   "metadata": {
    "collapsed": true
   },
   "outputs": [],
   "source": [
    "# your iPython version of the above visualization"
   ]
  }
 ],
 "metadata": {
  "kernelspec": {
   "display_name": "Python 3",
   "language": "python",
   "name": "python3"
  },
  "language_info": {
   "codemirror_mode": {
    "name": "ipython",
    "version": 3
   },
   "file_extension": ".py",
   "mimetype": "text/x-python",
   "name": "python",
   "nbconvert_exporter": "python",
   "pygments_lexer": "ipython3",
   "version": "3.4.3"
  }
 },
 "nbformat": 4,
 "nbformat_minor": 0
}
