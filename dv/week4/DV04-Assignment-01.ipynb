{
 "cells": [
  {
   "cell_type": "markdown",
   "metadata": {},
   "source": [
    "# ADS-DV Week 4 Assignment 1\n",
    "\n",
    "# Redesigning a failed chart\n",
    "\n",
    "## Summary\n",
    "In this assignment you will redesign a failed plot, to practice the guidelines and rules for creating plots.\n",
    "\n",
    "## Assignment\n",
    "Find a complex enough chart that seems to have gone wrong in some aspects, e.g. here http://viz.wtf/. If you are unsure about the complexity, ask your teacher. If you think it is hard to start you can read up on how to create infographics in the following document: <a href=\"resources/InfographicsDesignProcess.pdf\">Infographics Design Process</a>.\n",
    "\n",
    "Recreate the plot but make an improved version. You can use fake data if you don't have the actual data. You are allowed to change the chart type. Include both a screenshot of the original and the result of your redesign in your solution.\n",
    "\n",
    "Describe your design process by talking about data types, design rules, visual encoding, use of color and any other consideration you have made.\n",
    "\n",
    "You are allowed to use any tool you think is best suited for the task, e.g. Python, Tableau, Illustrator or even accurate hand-drawings."
   ]
  },
  {
   "cell_type": "markdown",
   "metadata": {
    "collapsed": true
   },
   "source": [
    "## Solution"
   ]
  },
  {
   "cell_type": "code",
   "execution_count": 1,
   "metadata": {
    "collapsed": false
   },
   "outputs": [
    {
     "ename": "SyntaxError",
     "evalue": "invalid syntax (<ipython-input-1-2ba75abb5b58>, line 1)",
     "output_type": "error",
     "traceback": [
      "\u001b[1;36m  File \u001b[1;32m\"<ipython-input-1-2ba75abb5b58>\"\u001b[1;36m, line \u001b[1;32m1\u001b[0m\n\u001b[1;33m    <img src=\"resources/tumblr_nvi2oveJmH1sgh0voo1_1280.png\">\u001b[0m\n\u001b[1;37m    ^\u001b[0m\n\u001b[1;31mSyntaxError\u001b[0m\u001b[1;31m:\u001b[0m invalid syntax\n"
     ]
    }
   ],
   "source": [
    "<img src=\"resources/tumblr_nvi2oveJmH1sgh0voo1_1280.png\"> \n"
   ]
  },
  {
   "cell_type": "code",
   "execution_count": 8,
   "metadata": {
    "collapsed": true
   },
   "outputs": [],
   "source": [
    "## solution AND detailed description of your process here"
   ]
  },
  {
   "cell_type": "code",
   "execution_count": null,
   "metadata": {
    "collapsed": true
   },
   "outputs": [],
   "source": []
  },
  {
   "cell_type": "code",
   "execution_count": null,
   "metadata": {
    "collapsed": true
   },
   "outputs": [],
   "source": []
  },
  {
   "cell_type": "code",
   "execution_count": null,
   "metadata": {
    "collapsed": true
   },
   "outputs": [],
   "source": []
  }
 ],
 "metadata": {
  "kernelspec": {
   "display_name": "Python 3",
   "language": "python",
   "name": "python3"
  },
  "language_info": {
   "codemirror_mode": {
    "name": "ipython",
    "version": 3
   },
   "file_extension": ".py",
   "mimetype": "text/x-python",
   "name": "python",
   "nbconvert_exporter": "python",
   "pygments_lexer": "ipython3",
   "version": "3.4.3"
  }
 },
 "nbformat": 4,
 "nbformat_minor": 0
}
