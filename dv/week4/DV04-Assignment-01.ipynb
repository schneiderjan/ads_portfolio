{
 "cells": [
  {
   "cell_type": "markdown",
   "metadata": {},
   "source": [
    "# ADS-DV Week 4 Assignment 1\n",
    "\n",
    "# Redesigning a failed chart\n",
    "\n",
    "## Summary\n",
    "In this assignment you will redesign a failed plot, to practice the guidelines and rules for creating plots.\n",
    "\n",
    "## Assignment\n",
    "Find a complex enough chart that seems to have gone wrong in some aspects, e.g. here http://viz.wtf/. If you are unsure about the complexity, ask your teacher. If you think it is hard to start you can read up on how to create infographics in the following document: <a href=\"resources/InfographicsDesignProcess.pdf\">Infographics Design Process</a>.\n",
    "\n",
    "Recreate the plot but make an improved version. You can use fake data if you don't have the actual data. You are allowed to change the chart type. Include both a screenshot of the original and the result of your redesign in your solution.\n",
    "\n",
    "Describe your design process by talking about data types, design rules, visual encoding, use of color and any other consideration you have made.\n",
    "\n",
    "You are allowed to use any tool you think is best suited for the task, e.g. Python, Tableau, Illustrator or even accurate hand-drawings."
   ]
  },
  {
   "cell_type": "markdown",
   "metadata": {
    "collapsed": true
   },
   "source": [
    "## Solution"
   ]
  },
  {
   "cell_type": "code",
   "execution_count": 10,
   "metadata": {
    "collapsed": true
   },
   "outputs": [],
   "source": [
    "## include a screenshot to the original image"
   ]
  },
  {
   "cell_type": "code",
   "execution_count": 11,
   "metadata": {
    "collapsed": true
   },
   "outputs": [],
   "source": [
    "## solution AND detailed description of your process here"
   ]
  },
  {
   "cell_type": "code",
   "execution_count": null,
   "metadata": {
    "collapsed": true
   },
   "outputs": [],
   "source": []
  }
 ],
 "metadata": {
  "kernelspec": {
   "display_name": "Python 3",
   "language": "python",
   "name": "python3"
  },
  "language_info": {
   "codemirror_mode": {
    "name": "ipython",
    "version": 3
   },
   "file_extension": ".py",
   "mimetype": "text/x-python",
   "name": "python",
   "nbconvert_exporter": "python",
   "pygments_lexer": "ipython3",
   "version": "3.4.3"
  }
 },
 "nbformat": 4,
 "nbformat_minor": 0
}
