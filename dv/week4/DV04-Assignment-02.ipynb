{
 "cells": [
  {
   "cell_type": "markdown",
   "metadata": {},
   "source": [
    "# ADS-DV Week 4 Assignment 2\n",
    "\n",
    "# Adding value to an article using visualizations\n",
    "\n",
    "## Summary\n",
    "In this assignment you will practice choosing the right chart types and applying the design rules and general guidelines from scratch.\n",
    "\n",
    "## Assignment\n",
    "\n",
    "Nowadays, newspapers and magazines are full with infographics and data visualizations. But still some articles choose not to use any, but could very well use one or two.\n",
    "\n",
    "Your task is to add (at least) **two** infographics/data visualizations to this New Yorker article. Browse the text and find a greatly missed opportunity for a graphic, then using data from the text and if needed your own imagination, create one. You are free in choosing a tool. If you use Python then add your source code below. ** Explain the design choices you've made in detail, like in assignment 1! ** Also answer the question what the plot wants to show or explain and how your design helps with that.\n",
    "\n",
    "http://www.newyorker.com/magazine/2013/01/07/adaptation-2\n",
    "\n",
    "If you think it is hard to start you can read up on how to create infographics in the following document: <a href=\"resources/InfographicsDesignProcess.pdf\">Infographics Design Process</a>.\n"
   ]
  },
  {
   "cell_type": "markdown",
   "metadata": {},
   "source": [
    "## Solution"
   ]
  },
  {
   "cell_type": "code",
   "execution_count": 3,
   "metadata": {
    "collapsed": true
   },
   "outputs": [],
   "source": [
    "# add the chart and the part of the article it relates to"
   ]
  },
  {
   "cell_type": "code",
   "execution_count": 4,
   "metadata": {
    "collapsed": true
   },
   "outputs": [],
   "source": [
    "# optionally: add python code here to create the graphs"
   ]
  },
  {
   "cell_type": "code",
   "execution_count": 1,
   "metadata": {
    "collapsed": true
   },
   "outputs": [],
   "source": [
    "# write your detailed design process (design choices) and explanation of the chart."
   ]
  },
  {
   "cell_type": "markdown",
   "metadata": {},
   "source": [
    "#paragraph 2\n",
    "\n",
    "95% african american + similar amount of elderly\n",
    "\n",
    "englewood: 33death per 100.000\n",
    "\n",
    "auburn greshham's: 3 death per 100.000\n",
    "\n",
    "population englewood: 30,654 // https://en.wikipedia.org/wiki/Englewood,_Chicago\n",
    "population auburn greshham: 48,743 // https://en.wikipedia.org/wiki/Auburn_Gresham,_Chicago"
   ]
  },
  {
   "cell_type": "markdown",
   "metadata": {},
   "source": [
    "#J\n",
    "accob doesn’t think Rotterdam’s or Singapore’s arrangements can simply be replicated elsewhere, but he’s impressed by their ambition and foresight. After Sandy, New York paid the price for its lack of preparation. In recent decades, American utility companies have spent relatively little on research and development. One industry report estimates that, in 2009, research-and-development investments made by all U.S. electrical-power utilities amounted to at most $700 million, compared with $6.3 billion by I.B.M. and $9.1 billion by Pfizer. In 2009, however, the Department of Energy issued $3.4 billion in stimulus grants to a hundred smart-grid projects across the United States, including many in areas that are prone to heat waves and hurricanes. The previous year, Hurricane Ike had knocked out power to two million customers in Houston, and full restoration took nearly a month. When the city received $200 million in federal funds to install smart-grid technology, it quickly put crews to work. Nearly all Houston households have been upgraded to the new network, one that should be more reliable when the next storm arrives.\n",
    "\n",
    "2009: research and development investments made by all U.S. electrical-power utilities made by all U.S. electrical-power utilities >> \n",
    "US electrical-power utilities: 700 million\n",
    "\n",
    "IBM: 6.3 billion\n",
    "\n",
    "Pfizer: 9.1 billion\n",
    "\n",
    "<img src=\"resources/dv04_02.jpg\">"
   ]
  },
  {
   "cell_type": "markdown",
   "metadata": {},
   "source": [
    "The paragraph wants to display the discrepancy between investments of US government and companies, such as IBM or Pfizer."
   ]
  },
  {
   "cell_type": "markdown",
   "metadata": {},
   "source": [
    "The key difference between neighborhoods like Auburn Gresham and others that are demographically similar turned out to be the sidewalks, stores, restaurants, and community organizations that bring people into contact with friends and neighbors. The people of Englewood were vulnerable not just because they were black and poor but also because their community had been abandoned. Between 1960 and 1990, Englewood lost fifty per cent of its residents and most of its commercial outlets, as well as its social cohesion. “We used to be much closer, more tight-knit,” says Hal Baskin, who has lived in Englewood for fifty-two years and currently leads a campaign against neighborhood violence. “Now we don’t know who lives across the street or around the corner. And old folks are apprehensive about leaving their homes.” Auburn Gresham, by contrast, experienced no population loss during that period. In 1995, residents walked to diners and grocery stores. They knew their neighbors. They participated in block clubs and church groups. “During the heat wave, we were doing wellness checks, asking neighbors to knock on each other’s doors,” Betty Swanson, who has lived in Auburn Gresham for nearly fifty years, says. “The presidents of our block clubs usually know who’s alone, who’s aging, who’s sick. It’s what we always do when it’s very hot or very cold here.”\n",
    "\n",
    "<img src=resources/dv04_02_deathrate.jpg>"
   ]
  },
  {
   "cell_type": "markdown",
   "metadata": {},
   "source": [
    "## Optional assignment\n",
    "Attempt to add metaphoric elements to your plot to create a true infographic. We will return to metaphoric thinking in a later lesson."
   ]
  },
  {
   "cell_type": "code",
   "execution_count": null,
   "metadata": {
    "collapsed": true
   },
   "outputs": [],
   "source": [
    "# your inforgraphic here"
   ]
  }
 ],
 "metadata": {
  "kernelspec": {
   "display_name": "Python 3",
   "language": "python",
   "name": "python3"
  },
  "language_info": {
   "codemirror_mode": {
    "name": "ipython",
    "version": 3
   },
   "file_extension": ".py",
   "mimetype": "text/x-python",
   "name": "python",
   "nbconvert_exporter": "python",
   "pygments_lexer": "ipython3",
   "version": "3.4.3"
  }
 },
 "nbformat": 4,
 "nbformat_minor": 0
}
