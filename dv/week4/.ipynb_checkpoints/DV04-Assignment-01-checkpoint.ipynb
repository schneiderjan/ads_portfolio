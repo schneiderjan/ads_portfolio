{
 "cells": [
  {
   "cell_type": "markdown",
   "metadata": {},
   "source": [
    "# ADS-DV Week 4 Assignment 1\n",
    "\n",
    "# Redesigning a failed chart\n",
    "\n",
    "## Summary\n",
    "In this assignment you will redesign a failed plot, to practice the guidelines and rules for creating plots.\n",
    "\n",
    "## Assignment\n",
    "Find a complex enough chart that seems to have gone wrong in some aspects, e.g. here http://viz.wtf/. If you are unsure about the complexity, ask your teacher. If you think it is hard to start you can read up on how to create infographics in the following document: <a href=\"resources/InfographicsDesignProcess.pdf\">Infographics Design Process</a>.\n",
    "\n",
    "Recreate the plot but make an improved version. You can use fake data if you don't have the actual data. You are allowed to change the chart type. Include both a screenshot of the original and the result of your redesign in your solution.\n",
    "\n",
    "Describe your design process by talking about data types, design rules, visual encoding, use of color and any other consideration you have made.\n",
    "\n",
    "You are allowed to use any tool you think is best suited for the task, e.g. Python, Tableau, Illustrator or even accurate hand-drawings."
   ]
  },
  {
   "cell_type": "markdown",
   "metadata": {
    "collapsed": true
   },
   "source": [
    "## Solution"
   ]
  },
  {
   "cell_type": "markdown",
   "metadata": {
    "collapsed": false
   },
   "source": [
    "Original visualization.\n",
    "\n",
    "<img src=\"resources/dv04-assignment-01_original.PNG\">"
   ]
  },
  {
   "cell_type": "code",
   "execution_count": 9,
   "metadata": {
    "collapsed": true
   },
   "outputs": [],
   "source": [
    "## solution AND detailed description of your process here"
   ]
  },
  {
   "cell_type": "markdown",
   "metadata": {
    "collapsed": true
   },
   "source": [
    "I collected data searching for the respective number of total mobile users for each platform. I will calculate active users using the percentage values of the original visualization to stick to the main idea of it. I didn't bother to much if the numbers are accurate or not, but tried to improve the visualization."
   ]
  },
  {
   "cell_type": "markdown",
   "metadata": {
    "collapsed": true
   },
   "source": [
    "facebook users:\n",
    "http://techcrunch.com/2013/01/04/how-many-mobile-users-does-facebook-have/\n",
    "192M Android, 147M iPhone, 48M iPad, 56M Messenger = 443Million total users"
   ]
  },
  {
   "cell_type": "markdown",
   "metadata": {
    "collapsed": true
   },
   "source": [
    "youtube users: https://www.youtube.com/yt/press/statistics.html\n",
    "1 billion users\n",
    "http://techcrunch.com/2013/10/17/youtube-goes-mobile/\n",
    "400Million total mobile users"
   ]
  },
  {
   "cell_type": "markdown",
   "metadata": {},
   "source": [
    "https://about.twitter.com/de/company 1Billion users of which 80% are mobile users = 800 Million total mobile users"
   ]
  },
  {
   "cell_type": "markdown",
   "metadata": {},
   "source": [
    "http://expandedramblings.com/index.php/pinterest-stats/ 176Million total user of which 75% are mobile users. https://business.pinterest.com/en/blog/reach-your-customers-mobile-pinterest\n",
    "= 132Million total mobile user"
   ]
  },
  {
   "cell_type": "markdown",
   "metadata": {},
   "source": [
    "https://press.linkedin.com/about-linkedin 400 million users\n",
    "http://expandedramblings.com/index.php/linkedin-mobile-statistics/ 50% mobile users = 200 MIllion total mobile users"
   ]
  },
  {
   "cell_type": "markdown",
   "metadata": {},
   "source": [
    "total mobile users\n",
    "\n",
    "facebook: 443Million\n",
    "\n",
    "youtube: 400Million\n",
    "\n",
    "twitter: 800Million\n",
    "\n",
    "pinterest: 132Million\n",
    "\n",
    "linkedin: 200Million"
   ]
  },
  {
   "cell_type": "markdown",
   "metadata": {},
   "source": [
    "active users\n",
    "\n",
    "facebook: 133.5Million\n",
    "\n",
    "youtube: 264.3Million\n",
    "\n",
    "twitter: 157.3Million\n",
    "\n",
    "pinterest: 24.6\n",
    "\n",
    "linkedin: 21.5Million"
   ]
  },
  {
   "cell_type": "markdown",
   "metadata": {},
   "source": [
    "I added the numbers to an excel file, which can be found in resources. I wanted to make the numbers comparable because the original viusalization was only showing percentile values, which are not comparable. I chose to make a grouped bar chart that is easiest to understand and most representable of the original data.\n",
    "\n",
    "For values i changed the percentile to actual numbers (see above how they are found). This way it is easier to compare the different bars in height.\n",
    "\n",
    "The colors represent each distinct company. I used the color 10 palette which is sufficient to show 5 different companies. As for active and total users, I used the same color to represent the same company.\n"
   ]
  },
  {
   "cell_type": "markdown",
   "metadata": {},
   "source": [
    "<img src=\"resources/dv04.jpg\">"
   ]
  },
  {
   "cell_type": "code",
   "execution_count": null,
   "metadata": {
    "collapsed": true
   },
   "outputs": [],
   "source": []
  }
 ],
 "metadata": {
  "kernelspec": {
   "display_name": "Python 3",
   "language": "python",
   "name": "python3"
  },
  "language_info": {
   "codemirror_mode": {
    "name": "ipython",
    "version": 3
   },
   "file_extension": ".py",
   "mimetype": "text/x-python",
   "name": "python",
   "nbconvert_exporter": "python",
   "pygments_lexer": "ipython3",
   "version": "3.4.3"
  }
 },
 "nbformat": 4,
 "nbformat_minor": 0
}
